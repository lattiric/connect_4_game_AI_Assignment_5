{
  "cells": [
    {
      "cell_type": "markdown",
      "metadata": {
        "id": "iOEG-BH9zXwt"
      },
      "source": [
        "# Adversarial Search: Playing Connect 4\n",
        "\n",
        "Student Name: [Add your name]\n",
        "\n",
        "I have used the following AI tools: [list tools]\n",
        "\n",
        "I understand that my submission needs to be my own work: [your initials]\n",
        "\n",
        "## Instructions\n",
        "\n",
        "Total Points: Undegraduates 100, graduate students 110\n",
        "\n",
        "Complete this notebook and submit it. The notebook needs to be a complete project report with your implementation, documentation including a short discussion of how your implementation works and your design choices, and experimental results (e.g., tables and charts with simulation results) with a short discussion of what they mean. Use the provided notebook cells and insert additional code and markdown cells as needed.\n",
        "\n",
        "## Introduction\n",
        "\n",
        "You will implement different versions of agents that play Connect 4:\n",
        "\n",
        "> \"Connect 4 is a two-player connection board game, in which the players choose a color and then take turns dropping colored discs into a seven-column, six-row vertically suspended grid. The pieces fall straight down, occupying the lowest available space within the column. The objective of the game is to be the first to form a horizontal, vertical, or diagonal line of four of one's own discs.\" (see [Connect Four on Wikipedia](https://en.wikipedia.org/wiki/Connect_Four))\n",
        "\n",
        "Note that [Connect-4 has been solved](https://en.wikipedia.org/wiki/Connect_Four#Mathematical_solution)\n",
        "in 1988. A connect-4 solver with a discussion of how to solve different parts of the problem can be found here: https://connect4.gamesolver.org/en/"
      ]
    },
    {
      "cell_type": "markdown",
      "metadata": {
        "id": "ejGh-I8FzXw1"
      },
      "source": [
        "## Task 1: Defining the Search Problem [10 point]\n",
        "\n",
        "Define the components of the search problem:\n",
        "\n",
        "* Initial state\n",
        "* Actions\n",
        "* Transition model (result function)\n",
        "* Goal state (terminal state and utility)"
      ]
    },
    {
      "cell_type": "code",
      "execution_count": 400,
      "metadata": {
        "id": "Qm6vZKxnzXw2"
      },
      "outputs": [],
      "source": [
        "# Your code/answer goes here."
      ]
    },
    {
      "cell_type": "markdown",
      "metadata": {
        "id": "xKHg0YZPzXw4"
      },
      "source": [
        "How big is the state space? Give an estimate and explain it."
      ]
    },
    {
      "cell_type": "code",
      "execution_count": 401,
      "metadata": {
        "id": "lvF91-GHzXw5"
      },
      "outputs": [],
      "source": [
        "# Your code/ answer goes here."
      ]
    },
    {
      "cell_type": "markdown",
      "metadata": {
        "id": "IqHs4oBAzXw6"
      },
      "source": [
        "How big is the game tree that minimax search will go through? Give an estimate and explain it."
      ]
    },
    {
      "cell_type": "code",
      "execution_count": 402,
      "metadata": {
        "id": "wAtD3777zXw6"
      },
      "outputs": [],
      "source": [
        "# Your code/ answer goes here."
      ]
    },
    {
      "cell_type": "markdown",
      "metadata": {
        "id": "A0rsmAv-zXw7"
      },
      "source": [
        "## Task 2: Game Environment and Random Agent [25 point]\n",
        "\n",
        "Use a numpy character array as the board."
      ]
    },
    {
      "cell_type": "code",
      "execution_count": 403,
      "metadata": {
        "id": "03etb8KkzXw7",
        "outputId": "7f1d5d04-dfb1-4a4b-9536-863aa296af0b"
      },
      "outputs": [
        {
          "name": "stdout",
          "output_type": "stream",
          "text": [
            "[[0 0 0 0 0 0 0]\n",
            " [0 0 0 0 0 0 0]\n",
            " [0 0 0 0 0 0 0]\n",
            " [0 0 0 0 0 0 0]\n",
            " [0 0 0 0 0 0 0]\n",
            " [0 0 0 0 0 0 0]]\n"
          ]
        }
      ],
      "source": [
        "import numpy as np\n",
        "\n",
        "def empty_board(shape=(6, 7)):\n",
        "    return np.full(shape=shape, fill_value=0)\n",
        "\n",
        "print(empty_board())"
      ]
    },
    {
      "cell_type": "markdown",
      "metadata": {
        "id": "JQBYmFlYzXw9"
      },
      "source": [
        "The standard board is $6 \\times 7$ but you can use smaller boards to test your code. Instead of colors (red and yellow), I use 1 and -1 to represent the players. Make sure that your agent functions all have the from: `agent_type(board, player = 1)`, where board is the current board position (in the format above) and player is the player whose next move it is and who the agent should play (as 1 and -1)."
      ]
    },
    {
      "cell_type": "code",
      "execution_count": 404,
      "metadata": {
        "id": "bOcu29aJzXw-",
        "outputId": "8e1b42fb-e6fb-428f-9239-0a0b727fdbf6",
        "tags": []
      },
      "outputs": [
        {
          "data": {
            "image/png": "[encoded data removed]",
            "text/plain": [
              "<Figure size 640x480 with 1 Axes>"
            ]
          },
          "metadata": {},
          "output_type": "display_data"
        }
      ],
      "source": [
        "# Visualization code by Randolph Rankin\n",
        "\n",
        "import matplotlib.pyplot as plt\n",
        "\n",
        "def visualize(board):\n",
        "    plt.axes()\n",
        "    rectangle=plt.Rectangle((-0.5,len(board)*-1+0.5),len(board[0]),len(board),fc='blue')\n",
        "    circles=[]\n",
        "    for i,row in enumerate(board):\n",
        "        for j,val in enumerate(row):\n",
        "            color='white' if val==0 else 'red' if val==1 else 'yellow'\n",
        "            circles.append(plt.Circle((j,i*-1),0.4,fc=color))\n",
        "\n",
        "    plt.gca().add_patch(rectangle)\n",
        "    for circle in circles:\n",
        "        plt.gca().add_patch(circle)\n",
        "\n",
        "    plt.axis('scaled')\n",
        "    plt.show()\n",
        "\n",
        "board = [[0, 0, 0, 0, 0, 0, 0],\n",
        "         [0, 0, 0, 0, 0, 0, 0],\n",
        "         [0, 0, 0, 0, 0, 0, 0],\n",
        "         [0, 0, 0, 1, 0, 0, 0],\n",
        "         [0, 0, 0, 1, 0, 0, 0],\n",
        "         [0,-1,-1, 1,-1, 0, 0]]\n",
        "visualize(board)"
      ]
    },
    {
      "cell_type": "markdown",
      "metadata": {
        "id": "JlXqnfbPzXw_",
        "tags": []
      },
      "source": [
        "Implement helper functions for:\n",
        "\n",
        "* A check for available actions in each state `actions(s)`.\n",
        "* The transition model `result(s, a)`.\n",
        "* Check for terminal states `terminal(s)`.\n",
        "* The utility function `utility(s)`.\n",
        "\n",
        "Make sure that all these functions work with boards of different sizes (number of columns and rows)."
      ]
    },
    {
      "cell_type": "code",
      "execution_count": 405,
      "metadata": {
        "id": "tVaRiof6zXxA"
      },
      "outputs": [],
      "source": [
        "# Your code/ answer goes here.\n",
        "\n",
        "import warnings\n",
        "warnings.filterwarnings('ignore')\n",
        "\n",
        "# action function\n",
        "def action(board_state):\n",
        "    # initialize the list of column numbers as possible actions\n",
        "    possible_actions = []\n",
        "\n",
        "    # check if the top row is empty for every column\n",
        "    for i in range(board_state.shape[1]):\n",
        "        # if the top row is empty, add the column number to the list of possible actions\n",
        "        if board_state[0][i] == 0:\n",
        "            possible_actions.append(i)\n",
        "    return possible_actions\n",
        "\n",
        "# return the new board state after an action is taken\n",
        "def results(board_state, res_action, player_token):\n",
        "    # initialize the new board state\n",
        "    new_board_state = board_state.copy()\n",
        "\n",
        "    # check every row in the column action\n",
        "    count_from_bottom = new_board_state.shape[0] - 1\n",
        "    while count_from_bottom >= 0:\n",
        "        # if the row is empty, add the player's token\n",
        "        if new_board_state[count_from_bottom][res_action] == 0:\n",
        "            new_board_state[count_from_bottom][res_action] = player_token\n",
        "            break\n",
        "        count_from_bottom -= 1\n",
        "\n",
        "    return new_board_state\n",
        "\n",
        "\n",
        "def check_connect_4(board_state):\n",
        "    # check rows for connect 4s\n",
        "    for i in range(board_state.shape[0]):\n",
        "        for j in range(board_state.shape[1] - 3):\n",
        "            if board_state[i][j] != 0 and board_state[i][j] == board_state[i][j + 1] == board_state[i][j + 2] == board_state[i][j + 3]:\n",
        "                if board_state[i][j] == 1:\n",
        "                    return 1\n",
        "                if board_state[i][j] == -1:\n",
        "                    return -1\n",
        "\n",
        "    # check columns for connect 4s\n",
        "    for i in range(board_state.shape[0] - 3):\n",
        "        for j in range(board_state.shape[1]):\n",
        "            if board_state[i][j] != 0 and board_state[i][j] == board_state[i + 1][j] == board_state[i + 2][j] == board_state[i + 3][j]:\n",
        "                if board_state[i][j] == 1:\n",
        "                    return 1\n",
        "                if board_state[i][j] == -1:\n",
        "                    return -1\n",
        "\n",
        "    # check diagonals for connect down and right 4s\n",
        "    for i in range(board_state.shape[0] - 3):\n",
        "        for j in range(board_state.shape[1] - 3):\n",
        "            if board_state[i][j] != 0 and board_state[i][j] == board_state[i + 1][j + 1] == board_state[i + 2][j + 2] == board_state[i + 3][j + 3]:\n",
        "                if board_state[i][j] == 1:\n",
        "                    return 1\n",
        "                if board_state[i][j] == -1:\n",
        "                    return -1\n",
        "\n",
        "     # check diagonals for connect up and left 4s\n",
        "    for i in range(board_state.shape[0] - 3):\n",
        "        j = board_state.shape[1] - 1\n",
        "        while j >= 2:\n",
        "            if board_state[i][j] != 0 and board_state[i][j] == board_state[i + 1][j - 1] == board_state[i + 2][j - 2] == board_state[i + 3][j - 3]:\n",
        "                if board_state[i][j] == 1:\n",
        "                    return 1\n",
        "                if board_state[i][j] == -1:\n",
        "                    return -1\n",
        "            j -= 1\n",
        "\n",
        "    # if no connect 4 is found, return 0\n",
        "    return 0\n",
        "\n",
        "def check_connect_3(board_state):\n",
        "    total_3s = 0\n",
        "    total_for_plr = 0\n",
        "    total_for_opp = 0\n",
        "\n",
        "    # check rows for connect 3s\n",
        "    for i in range(board_state.shape[0]):\n",
        "        for j in range(board_state.shape[1] - 2):\n",
        "            if board_state[i][j] != 0 and board_state[i][j] == board_state[i][j + 1] == board_state[i][j + 2]:\n",
        "                if board_state[i][j] == 1:\n",
        "                    total_3s += 1\n",
        "                    total_for_plr += 1\n",
        "                if board_state[i][j] == -1:\n",
        "                    total_3s += 1\n",
        "                    total_for_opp += 1\n",
        "\n",
        "    # check columns for connect 3s\n",
        "    for i in range(board_state.shape[0] - 2):\n",
        "        for j in range(board_state.shape[1]):\n",
        "            if board_state[i][j] != 0 and board_state[i][j] == board_state[i + 1][j] == board_state[i + 2][j]:\n",
        "                if board_state[i][j] == 1:\n",
        "                    total_3s += 1\n",
        "                    total_for_plr += 1\n",
        "                if board_state[i][j] == -1:\n",
        "                    total_3s += 1\n",
        "                    total_for_opp += 1\n",
        "\n",
        "    # check diagonals for connect down and right 3s\n",
        "    for i in range(board_state.shape[0] - 2):\n",
        "        for j in range(board_state.shape[1] - 2):\n",
        "            if board_state[i][j] != 0 and board_state[i][j] == board_state[i + 1][j + 1] == board_state[i + 2][j + 2]:\n",
        "                if board_state[i][j] == 1:\n",
        "                    total_3s += 1\n",
        "                    total_for_plr += 1\n",
        "                if board_state[i][j] == -1:\n",
        "                    total_3s += 1\n",
        "                    total_for_opp += 1\n",
        "\n",
        "     # check diagonals for connect up and left 3s\n",
        "    for i in range(board_state.shape[0] - 2):\n",
        "        j = board_state.shape[0] - 1\n",
        "        while j >= 0:\n",
        "            if board_state[i][j] != 0 and board_state[i][j] == board_state[i + 1][j - 1] == board_state[i + 2][j - 2]:\n",
        "                if board_state[i][j] == 1:\n",
        "                    total_3s += 1\n",
        "                    total_for_plr += 1\n",
        "                if board_state[i][j] == -1:\n",
        "                    total_3s += 1\n",
        "                    total_for_opp += 1\n",
        "            j -= 1\n",
        "\n",
        "    # if there are no connect 3s, the ratio of connect 3s is 0\n",
        "    ratio_of_plr = 0\n",
        "    ratio_of_opp = 0\n",
        "\n",
        "    # if there are connect 3s, calculate the ratio of connect 3s for each player\n",
        "    if total_3s > 0:\n",
        "        ratio_of_plr = total_for_plr / total_3s\n",
        "        ratio_of_opp = total_for_opp / total_3s\n",
        "\n",
        "    # if no connect 4 is found, return 0\n",
        "    return ratio_of_plr, ratio_of_opp\n",
        "\n",
        "# checks if there are any connect 4s\n",
        "def terminal(board_state):\n",
        "    result = 0\n",
        "    finished = False\n",
        "\n",
        "    # check if anyone has currently won or if the board is in a nuetral state\n",
        "    result = check_connect_4(board_state)\n",
        "    if result != 0:\n",
        "        finished = True\n",
        "\n",
        "    # check if the board is full\n",
        "    if np.count_nonzero(board_state) == board_state.shape[0] * board_state.shape[1]:\n",
        "        finished = True\n",
        "        # return 0\n",
        "\n",
        "    if finished == False:\n",
        "        return False, 0\n",
        "    else:\n",
        "        return True, result\n",
        "\n",
        "# checks the utility of a board state\n",
        "def utility(board_state, player):\n",
        "    # check if anyone has currently won or if the board is in a nuetral state\n",
        "    # result = terminal(board_state)\n",
        "\n",
        "    # check if board is in a terminal state\n",
        "    is_terminal, result = terminal(board_state)\n",
        "    if is_terminal:\n",
        "        return result\n",
        "\n",
        "    # check if there are any connect 3s for the utility function\n",
        "    utility = 0\n",
        "    # plr_ratio, opp_ratio = check_connect_3(board_state)\n",
        "    # if player == 1:\n",
        "    #     utility = plr_ratio - opp_ratio\n",
        "    # else:\n",
        "    #     utility = opp_ratio - plr_ratio\n",
        "\n",
        "    return utility\n"
      ]
    },
    {
      "cell_type": "markdown",
      "metadata": {
        "id": "eCFOYZQ1zXxA"
      },
      "source": [
        "Implement an agent that plays randomly. Make sure the agent function receives as the percept the board and returns a valid action. Use an agent function definition with the following signature (arguments):\n",
        "\n",
        "`def random_player(board, player = 1): ...`\n",
        "\n",
        "The argument `player` is used for agents that do not store what color they are playing. The value passed on by the environment should be 1 ot -1 for player red and yellow, respectively.  See [Experiments section for tic-tac-toe](https://nbviewer.org/github/mhahsler/CS7320-AI/blob/master/Games/tictactoe_and_or_tree_search.ipynb#Experiments) for an example."
      ]
    },
    {
      "cell_type": "code",
      "execution_count": 406,
      "metadata": {
        "id": "DFtVqLsqzXxB"
      },
      "outputs": [],
      "source": [
        "# Your code/ answer goes here.\n",
        "def random_player(board_state, player = 1):\n",
        "    # return random choice from the list of possible actions\n",
        "    rand_action = np.random.choice(action(board_state))\n",
        "    return results(board_state, rand_action, player)"
      ]
    },
    {
      "cell_type": "markdown",
      "metadata": {
        "id": "FVlE04HLzXxC"
      },
      "source": [
        "Let two random agents play against each other 1000 times. Look at the [Experiments section for tic-tac-toe](https://nbviewer.org/github/mhahsler/CS7320-AI/blob/master/Games/tictactoe_and_or_tree_search.ipynb#Experiments) to see how the environment uses the agent functions to play against each other.\n",
        "\n",
        "How often does each player win? Is the result expected?"
      ]
    },
    {
      "cell_type": "code",
      "execution_count": 407,
      "metadata": {
        "id": "O9L_phNJzXxD",
        "tags": []
      },
      "outputs": [],
      "source": [
        "# Your code/ answer goes here.\n",
        "import pandas as pd\n",
        "\n",
        "def play(board, player1, player2): #pass in function for both players\n",
        "    turn = 0\n",
        "    cur_board = board.copy()\n",
        "\n",
        "    # play until the someone wins or the board is full\n",
        "    is_terminal, result = terminal(cur_board)\n",
        "\n",
        "    while is_terminal == False:\n",
        "        if turn % 2 == 0:\n",
        "            cur_board = player1(cur_board, 1)\n",
        "        else:\n",
        "            cur_board = player2(cur_board, -1)\n",
        "        turn += 1\n",
        "\n",
        "        # check if the board is in a terminal state\n",
        "        is_terminal, result = terminal(cur_board)\n",
        "\n",
        "    # return the final board state\n",
        "    return cur_board\n",
        "\n",
        "\n",
        "df = pd.DataFrame(columns=['run_number', 'winner'])\n",
        "\n",
        "for x in range(1000):\n",
        "    myBoard = empty_board()\n",
        "    myBoard = play(myBoard, random_player, random_player)\n",
        "    # visualize(myBoard)\n",
        "    # print(\"The board ended with a utility of\", utility(myBoard, 1))\n",
        "    df = df.append({'run_number': x, 'winner': utility(myBoard, 1)}, ignore_index=True)"
      ]
    },
    {
      "cell_type": "code",
      "execution_count": 408,
      "metadata": {},
      "outputs": [
        {
          "name": "stdout",
          "output_type": "stream",
          "text": [
            "Number of times each player won:\n",
            " 1    585\n",
            "-1    414\n",
            " 0      1\n",
            "Name: winner, dtype: int64\n"
          ]
        }
      ],
      "source": [
        "# print(df)\n",
        "# print(df[df['winner'] == 0])\n",
        "\n",
        "# print the number of times each player won\n",
        "print(\"Number of times each player won:\")\n",
        "print(df['winner'].value_counts())"
      ]
    },
    {
      "cell_type": "markdown",
      "metadata": {
        "id": "aF42JP7pzXxE"
      },
      "source": [
        "## Task 3: Minimax Search with Alpha-Beta Pruning\n",
        "\n",
        "### Implement the Search [20 points]\n",
        "\n",
        "Implement minimax search starting from a given board for specifying the player.\n",
        "You can use code from the [tic-tac-toe example](https://nbviewer.org/github/mhahsler/CS7320-AI/blob/master/Games/tictactoe_alpha_beta_tree_search.ipynb).\n",
        "\n",
        "__Important Notes:__\n",
        "* Make sure that all your agent functions have a signature consistent with the random agent above and that it [uses a class to store state information.](https://nbviewer.org/github/mhahsler/CS7320-AI/blob/master/HOWTOs/store_agent_state_information.ipynb)\n",
        "This is essential to be able play against agents from other students later.\n",
        "* The search space for a $6 \\times 7$ board is large. You can experiment with smaller boards (the smallest is $4 \\times 4$) and/or changing the winning rule to connect 3 instead of 4."
      ]
    },
    {
      "cell_type": "code",
      "execution_count": 409,
      "metadata": {
        "id": "Lb5KSBCFzXxE"
      },
      "outputs": [],
      "source": [
        "# Your code/ answer goes here.\n",
        "# import math\n",
        "\n",
        "# def minmax_search(board, player = 1):\n",
        "#     # check each possible postion for a move to see if there is terminal state in any \n",
        "#     for a in action(board):\n",
        "#         is_terminal, result = terminal(results(board, a, plr))\n",
        "#         if is_terminal and result == plr:\n",
        "#             return a\n",
        "\n",
        "    \n",
        "#     utility, next_move = max_val(board, plr)\n",
        "#     return next_move\n",
        "\n",
        "# # players best move\n",
        "# def max_val(state, player = 1):\n",
        "\n",
        "#     # returns utility and next move as none if it is at a terminal state\n",
        "#     v = utility(state, player)\n",
        "#     is_terminal, term_result = terminal(state)\n",
        "#     if is_terminal:\n",
        "#         # print(\"terminal min\")\n",
        "#         return v, None\n",
        "    \n",
        "\n",
        "#     v, move = -math.inf, None\n",
        "\n",
        "#     # check all possible actions in the state, return move with the largest value\n",
        "#     for a in action(state):\n",
        "#         v2, a2 = min_val(results(state, a, player), player)\n",
        "#         if v2 > v:\n",
        "#             v, move = v2, a\n",
        "\n",
        "#     # print(\"max\", v, move)\n",
        "#     return v, move\n",
        "\n",
        "\n",
        "# def min_val(state, player = 1):\n",
        "#     v = utility(state, player)\n",
        "#     is_terminal, term_result = terminal(state)\n",
        "#     if is_terminal:\n",
        "#         # print(\"terminal min\")\n",
        "#         return v, None\n",
        "\n",
        "#     v, move = +math.inf, None\n",
        "\n",
        "#     # check all possible actions in the state, return move with the smallest value\n",
        "#     for a in action(state):\n",
        "#         v2, a2 = max_val(results(state, a, (player * -1)), player)\n",
        "#         if v2 < v:\n",
        "#             v, move = v2, a\n",
        "    \n",
        "#     # print(\"min\", v, move)\n",
        "#     return v, move\n",
        "\n",
        "\n",
        "# def minmax_player(board, player = 1):\n",
        "#     move = minmax_search(board, player)\n",
        "#     visualize(results(board, move, player))\n",
        "#     return results(board, move, player)\n"
      ]
    },
    {
      "cell_type": "code",
      "execution_count": 410,
      "metadata": {},
      "outputs": [],
      "source": [
        "import math\n",
        "\n",
        "def alpha_beta_minmax_search(board, player = 1, depth = +math.inf, ):\n",
        "    global DEBUG, COUNT\n",
        "    COUNT, DEBUG = 0, 0\n",
        "    COUNT += 1\n",
        "    plr = player\n",
        "\n",
        "    # checks each possible column for a move to see if there is terminal state in any \n",
        "    for a in action(board):\n",
        "        is_terminal, result = terminal(results(board, a, plr))\n",
        "        if is_terminal and result == plr:\n",
        "            return a\n",
        "\n",
        "    utility, next_move = max_val_ab(board, plr, -math.inf, +math.inf)\n",
        "    if DEBUG >= 1: print(f\"Nodes searched: {COUNT}\")\n",
        "    return next_move\n",
        "\n",
        "# players best move\n",
        "def max_val_ab(state, player, alpha, beta):\n",
        "    #initialize global variables\n",
        "    global DEBUG, COUNT\n",
        "    COUNT += 1\n",
        "\n",
        "    # returns utility and next move as none if it is at a terminal state\n",
        "    v = utility(state, player)\n",
        "    if DEBUG >= 2: print(f\"max: {state} [alpha,beta]=[{alpha},{beta}] v={v}\")\n",
        "    is_terminal, term_result = terminal(state)\n",
        "    if is_terminal:\n",
        "        if DEBUG >= 2: print(f\"     found terminal state. backtracking.\")\n",
        "        return v, None\n",
        "    \n",
        "\n",
        "    v, move = -math.inf, None\n",
        "\n",
        "    # check all possible actions in the state, return move with the largest value\n",
        "    for a in action(state):\n",
        "        v2, a2 = min_val_ab(results(state, a, player), player, alpha, beta)\n",
        "        if DEBUG >= 2: print(f\"max: {state} (backtracked) [alpha,beta]=[{alpha},{beta}] v={v2}\")\n",
        "        if v2 > v:\n",
        "            v, move = v2, a\n",
        "            alpha = max(alpha, v)\n",
        "        if v >= beta:\n",
        "            if DEBUG >= 2: print(f\"     v>=beta ({v}>={beta}): pruning remaining subtree (actions). backtracking.\")\n",
        "            return v, move\n",
        "\n",
        "    # print(\"max\", v, move)\n",
        "    return v, move\n",
        "\n",
        "\n",
        "def min_val_ab(state, player, alpha, beta):\n",
        "    #initialize global variables\n",
        "    global DEBUG, COUNT\n",
        "    COUNT += 1\n",
        "\n",
        "    # returns utility and next move as none if it is at a terminal state\n",
        "    v = utility(state, player)\n",
        "    if DEBUG >= 2: print(f\"min: {state} [alpha,beta]=[{alpha},{beta}] v={v}\")\n",
        "    is_terminal, term_result = terminal(state)\n",
        "    if is_terminal:\n",
        "        if DEBUG >= 2: print(f\"     found terminal state. backtracking.\")\n",
        "        return v, None\n",
        "\n",
        "    v, move = +math.inf, None\n",
        "\n",
        "    # check all possible actions in the state, return move with the smallest value\n",
        "    for a in action(state):\n",
        "        v2, a2 = max_val_ab(results(state, a, (player * -1)), player, alpha, beta)\n",
        "        if DEBUG >= 2: print(f\"min: {state} (backtracked) [alpha,beta]=[{alpha},{beta}] v={v2}\")\n",
        "\n",
        "        if v2 < v:\n",
        "            v, move = v2, a\n",
        "            beta = min(beta, v)\n",
        "        if v <= alpha:\n",
        "            if DEBUG >= 2: print(f\"     v<=alpha ({v}>={alpha}): pruning remaining subtree (actions). backtracking.\")\n",
        "            return v, move\n",
        "    \n",
        "    # print(\"min\", v, move)\n",
        "    return v, move\n",
        "\n",
        "\n",
        "def ab_minmax_player(board, player = 1):\n",
        "    global DEBUG\n",
        "\n",
        "    move = alpha_beta_minmax_search(board, player)\n",
        "    # for output board for debugging\n",
        "    if DEBUG >= 0.5: visualize(results(board, move, player))\n",
        "\n",
        "    return results(board, move, player)\n"
      ]
    },
    {
      "cell_type": "markdown",
      "metadata": {
        "id": "N8B9O4t-zXxF"
      },
      "source": [
        "Experiment with some manually created boards (at least 5) to check if the agent spots winning opportunities."
      ]
    },
    {
      "cell_type": "code",
      "execution_count": 418,
      "metadata": {
        "id": "fInX0qgbzXxF"
      },
      "outputs": [
        {
          "ename": "TypeError",
          "evalue": "'int' object is not callable",
          "output_type": "error",
          "traceback": [
            "\u001b[0;31m---------------------------------------------------------------------------\u001b[0m",
            "\u001b[0;31mTypeError\u001b[0m                                 Traceback (most recent call last)",
            "\u001b[1;32m/Users/ricklattin/Documents/SMU Year 4 Sem 1/Artificial Intelligence/AI_Assignment_5/assignment_connect4.ipynb Cell 23\u001b[0m line \u001b[0;36m<cell line: 38>\u001b[0;34m()\u001b[0m\n\u001b[1;32m     <a href='vscode-notebook-cell:/Users/ricklattin/Documents/SMU%20Year%204%20Sem%201/Artificial%20Intelligence/AI_Assignment_5/assignment_connect4.ipynb#X26sZmlsZQ%3D%3D?line=35'>36</a>\u001b[0m \u001b[39m# change name of board that is assigned to board variable to test different boards\u001b[39;00m\n\u001b[1;32m     <a href='vscode-notebook-cell:/Users/ricklattin/Documents/SMU%20Year%204%20Sem%201/Artificial%20Intelligence/AI_Assignment_5/assignment_connect4.ipynb#X26sZmlsZQ%3D%3D?line=36'>37</a>\u001b[0m board \u001b[39m=\u001b[39m np\u001b[39m.\u001b[39marray(board5)\n\u001b[0;32m---> <a href='vscode-notebook-cell:/Users/ricklattin/Documents/SMU%20Year%204%20Sem%201/Artificial%20Intelligence/AI_Assignment_5/assignment_connect4.ipynb#X26sZmlsZQ%3D%3D?line=37'>38</a>\u001b[0m board \u001b[39m=\u001b[39m play(board, ab_minmax_player, ab_minmax_player)\n\u001b[1;32m     <a href='vscode-notebook-cell:/Users/ricklattin/Documents/SMU%20Year%204%20Sem%201/Artificial%20Intelligence/AI_Assignment_5/assignment_connect4.ipynb#X26sZmlsZQ%3D%3D?line=38'>39</a>\u001b[0m \u001b[39mprint\u001b[39m(board)\n\u001b[1;32m     <a href='vscode-notebook-cell:/Users/ricklattin/Documents/SMU%20Year%204%20Sem%201/Artificial%20Intelligence/AI_Assignment_5/assignment_connect4.ipynb#X26sZmlsZQ%3D%3D?line=39'>40</a>\u001b[0m visualize(board)\n",
            "\u001b[1;32m/Users/ricklattin/Documents/SMU Year 4 Sem 1/Artificial Intelligence/AI_Assignment_5/assignment_connect4.ipynb Cell 23\u001b[0m line \u001b[0;36mplay\u001b[0;34m(board, player1, player2)\u001b[0m\n\u001b[1;32m     <a href='vscode-notebook-cell:/Users/ricklattin/Documents/SMU%20Year%204%20Sem%201/Artificial%20Intelligence/AI_Assignment_5/assignment_connect4.ipynb#X26sZmlsZQ%3D%3D?line=10'>11</a>\u001b[0m \u001b[39mwhile\u001b[39;00m is_terminal \u001b[39m==\u001b[39m \u001b[39mFalse\u001b[39;00m:\n\u001b[1;32m     <a href='vscode-notebook-cell:/Users/ricklattin/Documents/SMU%20Year%204%20Sem%201/Artificial%20Intelligence/AI_Assignment_5/assignment_connect4.ipynb#X26sZmlsZQ%3D%3D?line=11'>12</a>\u001b[0m     \u001b[39mif\u001b[39;00m turn \u001b[39m%\u001b[39m \u001b[39m2\u001b[39m \u001b[39m==\u001b[39m \u001b[39m0\u001b[39m:\n\u001b[0;32m---> <a href='vscode-notebook-cell:/Users/ricklattin/Documents/SMU%20Year%204%20Sem%201/Artificial%20Intelligence/AI_Assignment_5/assignment_connect4.ipynb#X26sZmlsZQ%3D%3D?line=12'>13</a>\u001b[0m         cur_board \u001b[39m=\u001b[39m player1(cur_board, \u001b[39m1\u001b[39;49m)\n\u001b[1;32m     <a href='vscode-notebook-cell:/Users/ricklattin/Documents/SMU%20Year%204%20Sem%201/Artificial%20Intelligence/AI_Assignment_5/assignment_connect4.ipynb#X26sZmlsZQ%3D%3D?line=13'>14</a>\u001b[0m     \u001b[39melse\u001b[39;00m:\n\u001b[1;32m     <a href='vscode-notebook-cell:/Users/ricklattin/Documents/SMU%20Year%204%20Sem%201/Artificial%20Intelligence/AI_Assignment_5/assignment_connect4.ipynb#X26sZmlsZQ%3D%3D?line=14'>15</a>\u001b[0m         cur_board \u001b[39m=\u001b[39m player2(cur_board, \u001b[39m-\u001b[39m\u001b[39m1\u001b[39m)\n",
            "\u001b[1;32m/Users/ricklattin/Documents/SMU Year 4 Sem 1/Artificial Intelligence/AI_Assignment_5/assignment_connect4.ipynb Cell 23\u001b[0m line \u001b[0;36mab_minmax_player\u001b[0;34m(board, player)\u001b[0m\n\u001b[1;32m     <a href='vscode-notebook-cell:/Users/ricklattin/Documents/SMU%20Year%204%20Sem%201/Artificial%20Intelligence/AI_Assignment_5/assignment_connect4.ipynb#X26sZmlsZQ%3D%3D?line=81'>82</a>\u001b[0m \u001b[39mdef\u001b[39;00m \u001b[39mab_minmax_player\u001b[39m(board, player \u001b[39m=\u001b[39m \u001b[39m1\u001b[39m):\n\u001b[1;32m     <a href='vscode-notebook-cell:/Users/ricklattin/Documents/SMU%20Year%204%20Sem%201/Artificial%20Intelligence/AI_Assignment_5/assignment_connect4.ipynb#X26sZmlsZQ%3D%3D?line=82'>83</a>\u001b[0m     \u001b[39mglobal\u001b[39;00m DEBUG\n\u001b[0;32m---> <a href='vscode-notebook-cell:/Users/ricklattin/Documents/SMU%20Year%204%20Sem%201/Artificial%20Intelligence/AI_Assignment_5/assignment_connect4.ipynb#X26sZmlsZQ%3D%3D?line=84'>85</a>\u001b[0m     move \u001b[39m=\u001b[39m alpha_beta_minmax_search(board, player)\n\u001b[1;32m     <a href='vscode-notebook-cell:/Users/ricklattin/Documents/SMU%20Year%204%20Sem%201/Artificial%20Intelligence/AI_Assignment_5/assignment_connect4.ipynb#X26sZmlsZQ%3D%3D?line=85'>86</a>\u001b[0m     \u001b[39m# for output board for debugging\u001b[39;00m\n\u001b[1;32m     <a href='vscode-notebook-cell:/Users/ricklattin/Documents/SMU%20Year%204%20Sem%201/Artificial%20Intelligence/AI_Assignment_5/assignment_connect4.ipynb#X26sZmlsZQ%3D%3D?line=86'>87</a>\u001b[0m     \u001b[39mif\u001b[39;00m DEBUG \u001b[39m>\u001b[39m\u001b[39m=\u001b[39m \u001b[39m0.5\u001b[39m: visualize(results(board, move, player))\n",
            "\u001b[1;32m/Users/ricklattin/Documents/SMU Year 4 Sem 1/Artificial Intelligence/AI_Assignment_5/assignment_connect4.ipynb Cell 23\u001b[0m line \u001b[0;36malpha_beta_minmax_search\u001b[0;34m(board, player, depth)\u001b[0m\n\u001b[1;32m     <a href='vscode-notebook-cell:/Users/ricklattin/Documents/SMU%20Year%204%20Sem%201/Artificial%20Intelligence/AI_Assignment_5/assignment_connect4.ipynb#X26sZmlsZQ%3D%3D?line=11'>12</a>\u001b[0m     \u001b[39mif\u001b[39;00m is_terminal \u001b[39mand\u001b[39;00m result \u001b[39m==\u001b[39m plr:\n\u001b[1;32m     <a href='vscode-notebook-cell:/Users/ricklattin/Documents/SMU%20Year%204%20Sem%201/Artificial%20Intelligence/AI_Assignment_5/assignment_connect4.ipynb#X26sZmlsZQ%3D%3D?line=12'>13</a>\u001b[0m         \u001b[39mreturn\u001b[39;00m a\n\u001b[0;32m---> <a href='vscode-notebook-cell:/Users/ricklattin/Documents/SMU%20Year%204%20Sem%201/Artificial%20Intelligence/AI_Assignment_5/assignment_connect4.ipynb#X26sZmlsZQ%3D%3D?line=14'>15</a>\u001b[0m utility, next_move \u001b[39m=\u001b[39m max_val_ab(board, plr, \u001b[39m-\u001b[39;49mmath\u001b[39m.\u001b[39;49minf, \u001b[39m+\u001b[39;49mmath\u001b[39m.\u001b[39;49minf)\n\u001b[1;32m     <a href='vscode-notebook-cell:/Users/ricklattin/Documents/SMU%20Year%204%20Sem%201/Artificial%20Intelligence/AI_Assignment_5/assignment_connect4.ipynb#X26sZmlsZQ%3D%3D?line=15'>16</a>\u001b[0m \u001b[39mif\u001b[39;00m DEBUG \u001b[39m>\u001b[39m\u001b[39m=\u001b[39m \u001b[39m1\u001b[39m: \u001b[39mprint\u001b[39m(\u001b[39mf\u001b[39m\u001b[39m\"\u001b[39m\u001b[39mNodes searched: \u001b[39m\u001b[39m{\u001b[39;00mCOUNT\u001b[39m}\u001b[39;00m\u001b[39m\"\u001b[39m)\n\u001b[1;32m     <a href='vscode-notebook-cell:/Users/ricklattin/Documents/SMU%20Year%204%20Sem%201/Artificial%20Intelligence/AI_Assignment_5/assignment_connect4.ipynb#X26sZmlsZQ%3D%3D?line=16'>17</a>\u001b[0m \u001b[39mreturn\u001b[39;00m next_move\n",
            "\u001b[1;32m/Users/ricklattin/Documents/SMU Year 4 Sem 1/Artificial Intelligence/AI_Assignment_5/assignment_connect4.ipynb Cell 23\u001b[0m line \u001b[0;36mmax_val_ab\u001b[0;34m(state, player, alpha, beta)\u001b[0m\n\u001b[1;32m     <a href='vscode-notebook-cell:/Users/ricklattin/Documents/SMU%20Year%204%20Sem%201/Artificial%20Intelligence/AI_Assignment_5/assignment_connect4.ipynb#X26sZmlsZQ%3D%3D?line=22'>23</a>\u001b[0m COUNT \u001b[39m+\u001b[39m\u001b[39m=\u001b[39m \u001b[39m1\u001b[39m\n\u001b[1;32m     <a href='vscode-notebook-cell:/Users/ricklattin/Documents/SMU%20Year%204%20Sem%201/Artificial%20Intelligence/AI_Assignment_5/assignment_connect4.ipynb#X26sZmlsZQ%3D%3D?line=24'>25</a>\u001b[0m \u001b[39m# returns utility and next move as none if it is at a terminal state\u001b[39;00m\n\u001b[0;32m---> <a href='vscode-notebook-cell:/Users/ricklattin/Documents/SMU%20Year%204%20Sem%201/Artificial%20Intelligence/AI_Assignment_5/assignment_connect4.ipynb#X26sZmlsZQ%3D%3D?line=25'>26</a>\u001b[0m v \u001b[39m=\u001b[39m utility(state, player)\n\u001b[1;32m     <a href='vscode-notebook-cell:/Users/ricklattin/Documents/SMU%20Year%204%20Sem%201/Artificial%20Intelligence/AI_Assignment_5/assignment_connect4.ipynb#X26sZmlsZQ%3D%3D?line=26'>27</a>\u001b[0m \u001b[39mif\u001b[39;00m DEBUG \u001b[39m>\u001b[39m\u001b[39m=\u001b[39m \u001b[39m2\u001b[39m: \u001b[39mprint\u001b[39m(\u001b[39mf\u001b[39m\u001b[39m\"\u001b[39m\u001b[39mmax: \u001b[39m\u001b[39m{\u001b[39;00mstate\u001b[39m}\u001b[39;00m\u001b[39m [alpha,beta]=[\u001b[39m\u001b[39m{\u001b[39;00malpha\u001b[39m}\u001b[39;00m\u001b[39m,\u001b[39m\u001b[39m{\u001b[39;00mbeta\u001b[39m}\u001b[39;00m\u001b[39m] v=\u001b[39m\u001b[39m{\u001b[39;00mv\u001b[39m}\u001b[39;00m\u001b[39m\"\u001b[39m)\n\u001b[1;32m     <a href='vscode-notebook-cell:/Users/ricklattin/Documents/SMU%20Year%204%20Sem%201/Artificial%20Intelligence/AI_Assignment_5/assignment_connect4.ipynb#X26sZmlsZQ%3D%3D?line=27'>28</a>\u001b[0m is_terminal, term_result \u001b[39m=\u001b[39m terminal(state)\n",
            "\u001b[0;31mTypeError\u001b[0m: 'int' object is not callable"
          ]
        }
      ],
      "source": [
        "# Your code/ answer goes here.\n",
        "\n",
        "# five testing boards\n",
        "board1 = [[0, 0, 0, 0, 0],\n",
        "          [0, 0, 0, 0, 0], \n",
        "          [0, 0, 0, 0, 0],\n",
        "          [-1, -1, 0, 0, 0],\n",
        "          [1, 1, 0, 1, -1]]\n",
        "\n",
        "board2 = [[0, 0, 0, 0, 0],\n",
        "            [0, 0, 0, 0, 0], \n",
        "            [0, 0, 1, -1, 0],\n",
        "            [0, 1, -1, -1, 0],\n",
        "            [1, -1, -1, 1, 1]]\n",
        "\n",
        "board3 = [[0, 0, 0, 0, 0],\n",
        "            [0, 0, 0, 0, 0], \n",
        "            [0, 0, 0, 1, 0],\n",
        "            [0, 0, 0, 1, 0],\n",
        "            [-1, -1, 1, -1, 0]]\n",
        "\n",
        "board4 = [[0, 0, 0, 0, 0],\n",
        "            [0, 0, 0, 0, 0], \n",
        "            [0, 0, 0, 0, 0],\n",
        "            [1, 1, 1, 0, 0],\n",
        "            [-1, -1, -1, 0, 0]]\n",
        "\n",
        "\n",
        "board5 = [[0, 0, 0, 0, 0],\n",
        "            [0, 0, 0, 0, 0], \n",
        "            [-1, 0, 0, 0, 0],\n",
        "            [-1, 1, 1, 0, 1],\n",
        "            [-1, -1, -1, 0, 1]]\n",
        "\n",
        "\n",
        "# change name of board that is assigned to board variable to test different boards\n",
        "board = np.array(board1)\n",
        "board = play(board, ab_minmax_player, ab_minmax_player)\n",
        "visualize(board)\n",
        "\n",
        "board = np.array(board2)\n",
        "board = play(board, ab_minmax_player, ab_minmax_player)\n",
        "visualize(board)\n",
        "\n",
        "board = np.array(board3)\n",
        "board = play(board, ab_minmax_player, ab_minmax_player)\n",
        "visualize(board)\n",
        "\n",
        "board = np.array(board4)\n",
        "board = play(board, ab_minmax_player, ab_minmax_player)\n",
        "visualize(board)\n",
        "\n",
        "board = np.array(board5)\n",
        "board = play(board, ab_minmax_player, ab_minmax_player)\n",
        "visualize(board)"
      ]
    },
    {
      "cell_type": "markdown",
      "metadata": {
        "id": "1t0ayuyRzXxG"
      },
      "source": [
        "How long does it take to make a move? Start with a smaller board with 4 columns and make the board larger by adding columns."
      ]
    },
    {
      "cell_type": "code",
      "execution_count": 412,
      "metadata": {
        "id": "GgbyCvSIzXxG"
      },
      "outputs": [
        {
          "name": "stdout",
          "output_type": "stream",
          "text": [
            "(4, 4)\n"
          ]
        },
        {
          "name": "stdout",
          "output_type": "stream",
          "text": [
            "(4, 5)\n"
          ]
        },
        {
          "ename": "KeyboardInterrupt",
          "evalue": "",
          "output_type": "error",
          "traceback": [
            "\u001b[0;31m---------------------------------------------------------------------------\u001b[0m",
            "\u001b[0;31mKeyboardInterrupt\u001b[0m                         Traceback (most recent call last)",
            "\u001b[1;32m/Users/ricklattin/Documents/SMU Year 4 Sem 1/Artificial Intelligence/AI_Assignment_5/assignment_connect4.ipynb Cell 25\u001b[0m line \u001b[0;36m<cell line: 9>\u001b[0;34m()\u001b[0m\n\u001b[1;32m     <a href='vscode-notebook-cell:/Users/ricklattin/Documents/SMU%20Year%204%20Sem%201/Artificial%20Intelligence/AI_Assignment_5/assignment_connect4.ipynb#X31sZmlsZQ%3D%3D?line=14'>15</a>\u001b[0m \u001b[39m# time how long the minmax search takes and save the time to a dataframe\u001b[39;00m\n\u001b[1;32m     <a href='vscode-notebook-cell:/Users/ricklattin/Documents/SMU%20Year%204%20Sem%201/Artificial%20Intelligence/AI_Assignment_5/assignment_connect4.ipynb#X31sZmlsZQ%3D%3D?line=15'>16</a>\u001b[0m start \u001b[39m=\u001b[39m time\u001b[39m.\u001b[39mtime()\n\u001b[0;32m---> <a href='vscode-notebook-cell:/Users/ricklattin/Documents/SMU%20Year%204%20Sem%201/Artificial%20Intelligence/AI_Assignment_5/assignment_connect4.ipynb#X31sZmlsZQ%3D%3D?line=16'>17</a>\u001b[0m next_move \u001b[39m=\u001b[39m ab_minmax_player(board, \u001b[39m1\u001b[39;49m)\n\u001b[1;32m     <a href='vscode-notebook-cell:/Users/ricklattin/Documents/SMU%20Year%204%20Sem%201/Artificial%20Intelligence/AI_Assignment_5/assignment_connect4.ipynb#X31sZmlsZQ%3D%3D?line=17'>18</a>\u001b[0m end \u001b[39m=\u001b[39m time\u001b[39m.\u001b[39mtime()\n\u001b[1;32m     <a href='vscode-notebook-cell:/Users/ricklattin/Documents/SMU%20Year%204%20Sem%201/Artificial%20Intelligence/AI_Assignment_5/assignment_connect4.ipynb#X31sZmlsZQ%3D%3D?line=19'>20</a>\u001b[0m df \u001b[39m=\u001b[39m df\u001b[39m.\u001b[39mappend({\u001b[39m'\u001b[39m\u001b[39mboard_shape\u001b[39m\u001b[39m'\u001b[39m: shape, \u001b[39m'\u001b[39m\u001b[39mtime_taken_ab_minmax\u001b[39m\u001b[39m'\u001b[39m: end \u001b[39m-\u001b[39m start}, ignore_index\u001b[39m=\u001b[39m\u001b[39mTrue\u001b[39;00m)\n",
            "\u001b[1;32m/Users/ricklattin/Documents/SMU Year 4 Sem 1/Artificial Intelligence/AI_Assignment_5/assignment_connect4.ipynb Cell 25\u001b[0m line \u001b[0;36mab_minmax_player\u001b[0;34m(board, player)\u001b[0m\n\u001b[1;32m     <a href='vscode-notebook-cell:/Users/ricklattin/Documents/SMU%20Year%204%20Sem%201/Artificial%20Intelligence/AI_Assignment_5/assignment_connect4.ipynb#X31sZmlsZQ%3D%3D?line=81'>82</a>\u001b[0m \u001b[39mdef\u001b[39;00m \u001b[39mab_minmax_player\u001b[39m(board, player \u001b[39m=\u001b[39m \u001b[39m1\u001b[39m):\n\u001b[1;32m     <a href='vscode-notebook-cell:/Users/ricklattin/Documents/SMU%20Year%204%20Sem%201/Artificial%20Intelligence/AI_Assignment_5/assignment_connect4.ipynb#X31sZmlsZQ%3D%3D?line=82'>83</a>\u001b[0m     \u001b[39mglobal\u001b[39;00m DEBUG\n\u001b[0;32m---> <a href='vscode-notebook-cell:/Users/ricklattin/Documents/SMU%20Year%204%20Sem%201/Artificial%20Intelligence/AI_Assignment_5/assignment_connect4.ipynb#X31sZmlsZQ%3D%3D?line=84'>85</a>\u001b[0m     move \u001b[39m=\u001b[39m alpha_beta_minmax_search(board, player)\n\u001b[1;32m     <a href='vscode-notebook-cell:/Users/ricklattin/Documents/SMU%20Year%204%20Sem%201/Artificial%20Intelligence/AI_Assignment_5/assignment_connect4.ipynb#X31sZmlsZQ%3D%3D?line=85'>86</a>\u001b[0m     \u001b[39m# for output board for debugging\u001b[39;00m\n\u001b[1;32m     <a href='vscode-notebook-cell:/Users/ricklattin/Documents/SMU%20Year%204%20Sem%201/Artificial%20Intelligence/AI_Assignment_5/assignment_connect4.ipynb#X31sZmlsZQ%3D%3D?line=86'>87</a>\u001b[0m     \u001b[39mif\u001b[39;00m DEBUG \u001b[39m>\u001b[39m\u001b[39m=\u001b[39m \u001b[39m0.5\u001b[39m: visualize(results(board, move, player))\n",
            "\u001b[1;32m/Users/ricklattin/Documents/SMU Year 4 Sem 1/Artificial Intelligence/AI_Assignment_5/assignment_connect4.ipynb Cell 25\u001b[0m line \u001b[0;36malpha_beta_minmax_search\u001b[0;34m(board, player, depth)\u001b[0m\n\u001b[1;32m     <a href='vscode-notebook-cell:/Users/ricklattin/Documents/SMU%20Year%204%20Sem%201/Artificial%20Intelligence/AI_Assignment_5/assignment_connect4.ipynb#X31sZmlsZQ%3D%3D?line=11'>12</a>\u001b[0m     \u001b[39mif\u001b[39;00m is_terminal \u001b[39mand\u001b[39;00m result \u001b[39m==\u001b[39m plr:\n\u001b[1;32m     <a href='vscode-notebook-cell:/Users/ricklattin/Documents/SMU%20Year%204%20Sem%201/Artificial%20Intelligence/AI_Assignment_5/assignment_connect4.ipynb#X31sZmlsZQ%3D%3D?line=12'>13</a>\u001b[0m         \u001b[39mreturn\u001b[39;00m a\n\u001b[0;32m---> <a href='vscode-notebook-cell:/Users/ricklattin/Documents/SMU%20Year%204%20Sem%201/Artificial%20Intelligence/AI_Assignment_5/assignment_connect4.ipynb#X31sZmlsZQ%3D%3D?line=14'>15</a>\u001b[0m utility, next_move \u001b[39m=\u001b[39m max_val_ab(board, plr, \u001b[39m-\u001b[39;49mmath\u001b[39m.\u001b[39;49minf, \u001b[39m+\u001b[39;49mmath\u001b[39m.\u001b[39;49minf)\n\u001b[1;32m     <a href='vscode-notebook-cell:/Users/ricklattin/Documents/SMU%20Year%204%20Sem%201/Artificial%20Intelligence/AI_Assignment_5/assignment_connect4.ipynb#X31sZmlsZQ%3D%3D?line=15'>16</a>\u001b[0m \u001b[39mif\u001b[39;00m DEBUG \u001b[39m>\u001b[39m\u001b[39m=\u001b[39m \u001b[39m1\u001b[39m: \u001b[39mprint\u001b[39m(\u001b[39mf\u001b[39m\u001b[39m\"\u001b[39m\u001b[39mNodes searched: \u001b[39m\u001b[39m{\u001b[39;00mCOUNT\u001b[39m}\u001b[39;00m\u001b[39m\"\u001b[39m)\n\u001b[1;32m     <a href='vscode-notebook-cell:/Users/ricklattin/Documents/SMU%20Year%204%20Sem%201/Artificial%20Intelligence/AI_Assignment_5/assignment_connect4.ipynb#X31sZmlsZQ%3D%3D?line=16'>17</a>\u001b[0m \u001b[39mreturn\u001b[39;00m next_move\n",
            "\u001b[1;32m/Users/ricklattin/Documents/SMU Year 4 Sem 1/Artificial Intelligence/AI_Assignment_5/assignment_connect4.ipynb Cell 25\u001b[0m line \u001b[0;36mmax_val_ab\u001b[0;34m(state, player, alpha, beta)\u001b[0m\n\u001b[1;32m     <a href='vscode-notebook-cell:/Users/ricklattin/Documents/SMU%20Year%204%20Sem%201/Artificial%20Intelligence/AI_Assignment_5/assignment_connect4.ipynb#X31sZmlsZQ%3D%3D?line=35'>36</a>\u001b[0m \u001b[39m# check all possible actions in the state, return move with the largest value\u001b[39;00m\n\u001b[1;32m     <a href='vscode-notebook-cell:/Users/ricklattin/Documents/SMU%20Year%204%20Sem%201/Artificial%20Intelligence/AI_Assignment_5/assignment_connect4.ipynb#X31sZmlsZQ%3D%3D?line=36'>37</a>\u001b[0m \u001b[39mfor\u001b[39;00m a \u001b[39min\u001b[39;00m action(state):\n\u001b[0;32m---> <a href='vscode-notebook-cell:/Users/ricklattin/Documents/SMU%20Year%204%20Sem%201/Artificial%20Intelligence/AI_Assignment_5/assignment_connect4.ipynb#X31sZmlsZQ%3D%3D?line=37'>38</a>\u001b[0m     v2, a2 \u001b[39m=\u001b[39m min_val_ab(results(state, a, player), player, alpha, beta)\n\u001b[1;32m     <a href='vscode-notebook-cell:/Users/ricklattin/Documents/SMU%20Year%204%20Sem%201/Artificial%20Intelligence/AI_Assignment_5/assignment_connect4.ipynb#X31sZmlsZQ%3D%3D?line=38'>39</a>\u001b[0m     \u001b[39mif\u001b[39;00m DEBUG \u001b[39m>\u001b[39m\u001b[39m=\u001b[39m \u001b[39m2\u001b[39m: \u001b[39mprint\u001b[39m(\u001b[39mf\u001b[39m\u001b[39m\"\u001b[39m\u001b[39mmax: \u001b[39m\u001b[39m{\u001b[39;00mstate\u001b[39m}\u001b[39;00m\u001b[39m (backtracked) [alpha,beta]=[\u001b[39m\u001b[39m{\u001b[39;00malpha\u001b[39m}\u001b[39;00m\u001b[39m,\u001b[39m\u001b[39m{\u001b[39;00mbeta\u001b[39m}\u001b[39;00m\u001b[39m] v=\u001b[39m\u001b[39m{\u001b[39;00mv2\u001b[39m}\u001b[39;00m\u001b[39m\"\u001b[39m)\n\u001b[1;32m     <a href='vscode-notebook-cell:/Users/ricklattin/Documents/SMU%20Year%204%20Sem%201/Artificial%20Intelligence/AI_Assignment_5/assignment_connect4.ipynb#X31sZmlsZQ%3D%3D?line=39'>40</a>\u001b[0m     \u001b[39mif\u001b[39;00m v2 \u001b[39m>\u001b[39m v:\n",
            "\u001b[1;32m/Users/ricklattin/Documents/SMU Year 4 Sem 1/Artificial Intelligence/AI_Assignment_5/assignment_connect4.ipynb Cell 25\u001b[0m line \u001b[0;36mmin_val_ab\u001b[0;34m(state, player, alpha, beta)\u001b[0m\n\u001b[1;32m     <a href='vscode-notebook-cell:/Users/ricklattin/Documents/SMU%20Year%204%20Sem%201/Artificial%20Intelligence/AI_Assignment_5/assignment_connect4.ipynb#X31sZmlsZQ%3D%3D?line=65'>66</a>\u001b[0m \u001b[39m# check all possible actions in the state, return move with the smallest value\u001b[39;00m\n\u001b[1;32m     <a href='vscode-notebook-cell:/Users/ricklattin/Documents/SMU%20Year%204%20Sem%201/Artificial%20Intelligence/AI_Assignment_5/assignment_connect4.ipynb#X31sZmlsZQ%3D%3D?line=66'>67</a>\u001b[0m \u001b[39mfor\u001b[39;00m a \u001b[39min\u001b[39;00m action(state):\n\u001b[0;32m---> <a href='vscode-notebook-cell:/Users/ricklattin/Documents/SMU%20Year%204%20Sem%201/Artificial%20Intelligence/AI_Assignment_5/assignment_connect4.ipynb#X31sZmlsZQ%3D%3D?line=67'>68</a>\u001b[0m     v2, a2 \u001b[39m=\u001b[39m max_val_ab(results(state, a, (player \u001b[39m*\u001b[39;49m \u001b[39m-\u001b[39;49m\u001b[39m1\u001b[39;49m)), player, alpha, beta)\n\u001b[1;32m     <a href='vscode-notebook-cell:/Users/ricklattin/Documents/SMU%20Year%204%20Sem%201/Artificial%20Intelligence/AI_Assignment_5/assignment_connect4.ipynb#X31sZmlsZQ%3D%3D?line=68'>69</a>\u001b[0m     \u001b[39mif\u001b[39;00m DEBUG \u001b[39m>\u001b[39m\u001b[39m=\u001b[39m \u001b[39m2\u001b[39m: \u001b[39mprint\u001b[39m(\u001b[39mf\u001b[39m\u001b[39m\"\u001b[39m\u001b[39mmin: \u001b[39m\u001b[39m{\u001b[39;00mstate\u001b[39m}\u001b[39;00m\u001b[39m (backtracked) [alpha,beta]=[\u001b[39m\u001b[39m{\u001b[39;00malpha\u001b[39m}\u001b[39;00m\u001b[39m,\u001b[39m\u001b[39m{\u001b[39;00mbeta\u001b[39m}\u001b[39;00m\u001b[39m] v=\u001b[39m\u001b[39m{\u001b[39;00mv2\u001b[39m}\u001b[39;00m\u001b[39m\"\u001b[39m)\n\u001b[1;32m     <a href='vscode-notebook-cell:/Users/ricklattin/Documents/SMU%20Year%204%20Sem%201/Artificial%20Intelligence/AI_Assignment_5/assignment_connect4.ipynb#X31sZmlsZQ%3D%3D?line=70'>71</a>\u001b[0m     \u001b[39mif\u001b[39;00m v2 \u001b[39m<\u001b[39m v:\n",
            "\u001b[1;32m/Users/ricklattin/Documents/SMU Year 4 Sem 1/Artificial Intelligence/AI_Assignment_5/assignment_connect4.ipynb Cell 25\u001b[0m line \u001b[0;36mmax_val_ab\u001b[0;34m(state, player, alpha, beta)\u001b[0m\n\u001b[1;32m     <a href='vscode-notebook-cell:/Users/ricklattin/Documents/SMU%20Year%204%20Sem%201/Artificial%20Intelligence/AI_Assignment_5/assignment_connect4.ipynb#X31sZmlsZQ%3D%3D?line=35'>36</a>\u001b[0m \u001b[39m# check all possible actions in the state, return move with the largest value\u001b[39;00m\n\u001b[1;32m     <a href='vscode-notebook-cell:/Users/ricklattin/Documents/SMU%20Year%204%20Sem%201/Artificial%20Intelligence/AI_Assignment_5/assignment_connect4.ipynb#X31sZmlsZQ%3D%3D?line=36'>37</a>\u001b[0m \u001b[39mfor\u001b[39;00m a \u001b[39min\u001b[39;00m action(state):\n\u001b[0;32m---> <a href='vscode-notebook-cell:/Users/ricklattin/Documents/SMU%20Year%204%20Sem%201/Artificial%20Intelligence/AI_Assignment_5/assignment_connect4.ipynb#X31sZmlsZQ%3D%3D?line=37'>38</a>\u001b[0m     v2, a2 \u001b[39m=\u001b[39m min_val_ab(results(state, a, player), player, alpha, beta)\n\u001b[1;32m     <a href='vscode-notebook-cell:/Users/ricklattin/Documents/SMU%20Year%204%20Sem%201/Artificial%20Intelligence/AI_Assignment_5/assignment_connect4.ipynb#X31sZmlsZQ%3D%3D?line=38'>39</a>\u001b[0m     \u001b[39mif\u001b[39;00m DEBUG \u001b[39m>\u001b[39m\u001b[39m=\u001b[39m \u001b[39m2\u001b[39m: \u001b[39mprint\u001b[39m(\u001b[39mf\u001b[39m\u001b[39m\"\u001b[39m\u001b[39mmax: \u001b[39m\u001b[39m{\u001b[39;00mstate\u001b[39m}\u001b[39;00m\u001b[39m (backtracked) [alpha,beta]=[\u001b[39m\u001b[39m{\u001b[39;00malpha\u001b[39m}\u001b[39;00m\u001b[39m,\u001b[39m\u001b[39m{\u001b[39;00mbeta\u001b[39m}\u001b[39;00m\u001b[39m] v=\u001b[39m\u001b[39m{\u001b[39;00mv2\u001b[39m}\u001b[39;00m\u001b[39m\"\u001b[39m)\n\u001b[1;32m     <a href='vscode-notebook-cell:/Users/ricklattin/Documents/SMU%20Year%204%20Sem%201/Artificial%20Intelligence/AI_Assignment_5/assignment_connect4.ipynb#X31sZmlsZQ%3D%3D?line=39'>40</a>\u001b[0m     \u001b[39mif\u001b[39;00m v2 \u001b[39m>\u001b[39m v:\n",
            "\u001b[1;32m/Users/ricklattin/Documents/SMU Year 4 Sem 1/Artificial Intelligence/AI_Assignment_5/assignment_connect4.ipynb Cell 25\u001b[0m line \u001b[0;36mmin_val_ab\u001b[0;34m(state, player, alpha, beta)\u001b[0m\n\u001b[1;32m     <a href='vscode-notebook-cell:/Users/ricklattin/Documents/SMU%20Year%204%20Sem%201/Artificial%20Intelligence/AI_Assignment_5/assignment_connect4.ipynb#X31sZmlsZQ%3D%3D?line=65'>66</a>\u001b[0m \u001b[39m# check all possible actions in the state, return move with the smallest value\u001b[39;00m\n\u001b[1;32m     <a href='vscode-notebook-cell:/Users/ricklattin/Documents/SMU%20Year%204%20Sem%201/Artificial%20Intelligence/AI_Assignment_5/assignment_connect4.ipynb#X31sZmlsZQ%3D%3D?line=66'>67</a>\u001b[0m \u001b[39mfor\u001b[39;00m a \u001b[39min\u001b[39;00m action(state):\n\u001b[0;32m---> <a href='vscode-notebook-cell:/Users/ricklattin/Documents/SMU%20Year%204%20Sem%201/Artificial%20Intelligence/AI_Assignment_5/assignment_connect4.ipynb#X31sZmlsZQ%3D%3D?line=67'>68</a>\u001b[0m     v2, a2 \u001b[39m=\u001b[39m max_val_ab(results(state, a, (player \u001b[39m*\u001b[39;49m \u001b[39m-\u001b[39;49m\u001b[39m1\u001b[39;49m)), player, alpha, beta)\n\u001b[1;32m     <a href='vscode-notebook-cell:/Users/ricklattin/Documents/SMU%20Year%204%20Sem%201/Artificial%20Intelligence/AI_Assignment_5/assignment_connect4.ipynb#X31sZmlsZQ%3D%3D?line=68'>69</a>\u001b[0m     \u001b[39mif\u001b[39;00m DEBUG \u001b[39m>\u001b[39m\u001b[39m=\u001b[39m \u001b[39m2\u001b[39m: \u001b[39mprint\u001b[39m(\u001b[39mf\u001b[39m\u001b[39m\"\u001b[39m\u001b[39mmin: \u001b[39m\u001b[39m{\u001b[39;00mstate\u001b[39m}\u001b[39;00m\u001b[39m (backtracked) [alpha,beta]=[\u001b[39m\u001b[39m{\u001b[39;00malpha\u001b[39m}\u001b[39;00m\u001b[39m,\u001b[39m\u001b[39m{\u001b[39;00mbeta\u001b[39m}\u001b[39;00m\u001b[39m] v=\u001b[39m\u001b[39m{\u001b[39;00mv2\u001b[39m}\u001b[39;00m\u001b[39m\"\u001b[39m)\n\u001b[1;32m     <a href='vscode-notebook-cell:/Users/ricklattin/Documents/SMU%20Year%204%20Sem%201/Artificial%20Intelligence/AI_Assignment_5/assignment_connect4.ipynb#X31sZmlsZQ%3D%3D?line=70'>71</a>\u001b[0m     \u001b[39mif\u001b[39;00m v2 \u001b[39m<\u001b[39m v:\n",
            "    \u001b[0;31m[... skipping similar frames: max_val_ab at line 38 (7 times), min_val_ab at line 68 (6 times)]\u001b[0m\n",
            "\u001b[1;32m/Users/ricklattin/Documents/SMU Year 4 Sem 1/Artificial Intelligence/AI_Assignment_5/assignment_connect4.ipynb Cell 25\u001b[0m line \u001b[0;36mmin_val_ab\u001b[0;34m(state, player, alpha, beta)\u001b[0m\n\u001b[1;32m     <a href='vscode-notebook-cell:/Users/ricklattin/Documents/SMU%20Year%204%20Sem%201/Artificial%20Intelligence/AI_Assignment_5/assignment_connect4.ipynb#X31sZmlsZQ%3D%3D?line=65'>66</a>\u001b[0m \u001b[39m# check all possible actions in the state, return move with the smallest value\u001b[39;00m\n\u001b[1;32m     <a href='vscode-notebook-cell:/Users/ricklattin/Documents/SMU%20Year%204%20Sem%201/Artificial%20Intelligence/AI_Assignment_5/assignment_connect4.ipynb#X31sZmlsZQ%3D%3D?line=66'>67</a>\u001b[0m \u001b[39mfor\u001b[39;00m a \u001b[39min\u001b[39;00m action(state):\n\u001b[0;32m---> <a href='vscode-notebook-cell:/Users/ricklattin/Documents/SMU%20Year%204%20Sem%201/Artificial%20Intelligence/AI_Assignment_5/assignment_connect4.ipynb#X31sZmlsZQ%3D%3D?line=67'>68</a>\u001b[0m     v2, a2 \u001b[39m=\u001b[39m max_val_ab(results(state, a, (player \u001b[39m*\u001b[39;49m \u001b[39m-\u001b[39;49m\u001b[39m1\u001b[39;49m)), player, alpha, beta)\n\u001b[1;32m     <a href='vscode-notebook-cell:/Users/ricklattin/Documents/SMU%20Year%204%20Sem%201/Artificial%20Intelligence/AI_Assignment_5/assignment_connect4.ipynb#X31sZmlsZQ%3D%3D?line=68'>69</a>\u001b[0m     \u001b[39mif\u001b[39;00m DEBUG \u001b[39m>\u001b[39m\u001b[39m=\u001b[39m \u001b[39m2\u001b[39m: \u001b[39mprint\u001b[39m(\u001b[39mf\u001b[39m\u001b[39m\"\u001b[39m\u001b[39mmin: \u001b[39m\u001b[39m{\u001b[39;00mstate\u001b[39m}\u001b[39;00m\u001b[39m (backtracked) [alpha,beta]=[\u001b[39m\u001b[39m{\u001b[39;00malpha\u001b[39m}\u001b[39;00m\u001b[39m,\u001b[39m\u001b[39m{\u001b[39;00mbeta\u001b[39m}\u001b[39;00m\u001b[39m] v=\u001b[39m\u001b[39m{\u001b[39;00mv2\u001b[39m}\u001b[39;00m\u001b[39m\"\u001b[39m)\n\u001b[1;32m     <a href='vscode-notebook-cell:/Users/ricklattin/Documents/SMU%20Year%204%20Sem%201/Artificial%20Intelligence/AI_Assignment_5/assignment_connect4.ipynb#X31sZmlsZQ%3D%3D?line=70'>71</a>\u001b[0m     \u001b[39mif\u001b[39;00m v2 \u001b[39m<\u001b[39m v:\n",
            "\u001b[1;32m/Users/ricklattin/Documents/SMU Year 4 Sem 1/Artificial Intelligence/AI_Assignment_5/assignment_connect4.ipynb Cell 25\u001b[0m line \u001b[0;36mmax_val_ab\u001b[0;34m(state, player, alpha, beta)\u001b[0m\n\u001b[1;32m     <a href='vscode-notebook-cell:/Users/ricklattin/Documents/SMU%20Year%204%20Sem%201/Artificial%20Intelligence/AI_Assignment_5/assignment_connect4.ipynb#X31sZmlsZQ%3D%3D?line=35'>36</a>\u001b[0m \u001b[39m# check all possible actions in the state, return move with the largest value\u001b[39;00m\n\u001b[1;32m     <a href='vscode-notebook-cell:/Users/ricklattin/Documents/SMU%20Year%204%20Sem%201/Artificial%20Intelligence/AI_Assignment_5/assignment_connect4.ipynb#X31sZmlsZQ%3D%3D?line=36'>37</a>\u001b[0m \u001b[39mfor\u001b[39;00m a \u001b[39min\u001b[39;00m action(state):\n\u001b[0;32m---> <a href='vscode-notebook-cell:/Users/ricklattin/Documents/SMU%20Year%204%20Sem%201/Artificial%20Intelligence/AI_Assignment_5/assignment_connect4.ipynb#X31sZmlsZQ%3D%3D?line=37'>38</a>\u001b[0m     v2, a2 \u001b[39m=\u001b[39m min_val_ab(results(state, a, player), player, alpha, beta)\n\u001b[1;32m     <a href='vscode-notebook-cell:/Users/ricklattin/Documents/SMU%20Year%204%20Sem%201/Artificial%20Intelligence/AI_Assignment_5/assignment_connect4.ipynb#X31sZmlsZQ%3D%3D?line=38'>39</a>\u001b[0m     \u001b[39mif\u001b[39;00m DEBUG \u001b[39m>\u001b[39m\u001b[39m=\u001b[39m \u001b[39m2\u001b[39m: \u001b[39mprint\u001b[39m(\u001b[39mf\u001b[39m\u001b[39m\"\u001b[39m\u001b[39mmax: \u001b[39m\u001b[39m{\u001b[39;00mstate\u001b[39m}\u001b[39;00m\u001b[39m (backtracked) [alpha,beta]=[\u001b[39m\u001b[39m{\u001b[39;00malpha\u001b[39m}\u001b[39;00m\u001b[39m,\u001b[39m\u001b[39m{\u001b[39;00mbeta\u001b[39m}\u001b[39;00m\u001b[39m] v=\u001b[39m\u001b[39m{\u001b[39;00mv2\u001b[39m}\u001b[39;00m\u001b[39m\"\u001b[39m)\n\u001b[1;32m     <a href='vscode-notebook-cell:/Users/ricklattin/Documents/SMU%20Year%204%20Sem%201/Artificial%20Intelligence/AI_Assignment_5/assignment_connect4.ipynb#X31sZmlsZQ%3D%3D?line=39'>40</a>\u001b[0m     \u001b[39mif\u001b[39;00m v2 \u001b[39m>\u001b[39m v:\n",
            "\u001b[1;32m/Users/ricklattin/Documents/SMU Year 4 Sem 1/Artificial Intelligence/AI_Assignment_5/assignment_connect4.ipynb Cell 25\u001b[0m line \u001b[0;36mmin_val_ab\u001b[0;34m(state, player, alpha, beta)\u001b[0m\n\u001b[1;32m     <a href='vscode-notebook-cell:/Users/ricklattin/Documents/SMU%20Year%204%20Sem%201/Artificial%20Intelligence/AI_Assignment_5/assignment_connect4.ipynb#X31sZmlsZQ%3D%3D?line=56'>57</a>\u001b[0m v \u001b[39m=\u001b[39m utility(state, player)\n\u001b[1;32m     <a href='vscode-notebook-cell:/Users/ricklattin/Documents/SMU%20Year%204%20Sem%201/Artificial%20Intelligence/AI_Assignment_5/assignment_connect4.ipynb#X31sZmlsZQ%3D%3D?line=57'>58</a>\u001b[0m \u001b[39mif\u001b[39;00m DEBUG \u001b[39m>\u001b[39m\u001b[39m=\u001b[39m \u001b[39m2\u001b[39m: \u001b[39mprint\u001b[39m(\u001b[39mf\u001b[39m\u001b[39m\"\u001b[39m\u001b[39mmin: \u001b[39m\u001b[39m{\u001b[39;00mstate\u001b[39m}\u001b[39;00m\u001b[39m [alpha,beta]=[\u001b[39m\u001b[39m{\u001b[39;00malpha\u001b[39m}\u001b[39;00m\u001b[39m,\u001b[39m\u001b[39m{\u001b[39;00mbeta\u001b[39m}\u001b[39;00m\u001b[39m] v=\u001b[39m\u001b[39m{\u001b[39;00mv\u001b[39m}\u001b[39;00m\u001b[39m\"\u001b[39m)\n\u001b[0;32m---> <a href='vscode-notebook-cell:/Users/ricklattin/Documents/SMU%20Year%204%20Sem%201/Artificial%20Intelligence/AI_Assignment_5/assignment_connect4.ipynb#X31sZmlsZQ%3D%3D?line=58'>59</a>\u001b[0m is_terminal, term_result \u001b[39m=\u001b[39m terminal(state)\n\u001b[1;32m     <a href='vscode-notebook-cell:/Users/ricklattin/Documents/SMU%20Year%204%20Sem%201/Artificial%20Intelligence/AI_Assignment_5/assignment_connect4.ipynb#X31sZmlsZQ%3D%3D?line=59'>60</a>\u001b[0m \u001b[39mif\u001b[39;00m is_terminal:\n\u001b[1;32m     <a href='vscode-notebook-cell:/Users/ricklattin/Documents/SMU%20Year%204%20Sem%201/Artificial%20Intelligence/AI_Assignment_5/assignment_connect4.ipynb#X31sZmlsZQ%3D%3D?line=60'>61</a>\u001b[0m     \u001b[39mif\u001b[39;00m DEBUG \u001b[39m>\u001b[39m\u001b[39m=\u001b[39m \u001b[39m2\u001b[39m: \u001b[39mprint\u001b[39m(\u001b[39mf\u001b[39m\u001b[39m\"\u001b[39m\u001b[39m     found terminal state. backtracking.\u001b[39m\u001b[39m\"\u001b[39m)\n",
            "\u001b[1;32m/Users/ricklattin/Documents/SMU Year 4 Sem 1/Artificial Intelligence/AI_Assignment_5/assignment_connect4.ipynb Cell 25\u001b[0m line \u001b[0;36mterminal\u001b[0;34m(board_state)\u001b[0m\n\u001b[1;32m    <a href='vscode-notebook-cell:/Users/ricklattin/Documents/SMU%20Year%204%20Sem%201/Artificial%20Intelligence/AI_Assignment_5/assignment_connect4.ipynb#X31sZmlsZQ%3D%3D?line=142'>143</a>\u001b[0m finished \u001b[39m=\u001b[39m \u001b[39mFalse\u001b[39;00m\n\u001b[1;32m    <a href='vscode-notebook-cell:/Users/ricklattin/Documents/SMU%20Year%204%20Sem%201/Artificial%20Intelligence/AI_Assignment_5/assignment_connect4.ipynb#X31sZmlsZQ%3D%3D?line=144'>145</a>\u001b[0m \u001b[39m# check if anyone has currently won or if the board is in a nuetral state\u001b[39;00m\n\u001b[0;32m--> <a href='vscode-notebook-cell:/Users/ricklattin/Documents/SMU%20Year%204%20Sem%201/Artificial%20Intelligence/AI_Assignment_5/assignment_connect4.ipynb#X31sZmlsZQ%3D%3D?line=145'>146</a>\u001b[0m result \u001b[39m=\u001b[39m check_connect_4(board_state)\n\u001b[1;32m    <a href='vscode-notebook-cell:/Users/ricklattin/Documents/SMU%20Year%204%20Sem%201/Artificial%20Intelligence/AI_Assignment_5/assignment_connect4.ipynb#X31sZmlsZQ%3D%3D?line=146'>147</a>\u001b[0m \u001b[39mif\u001b[39;00m result \u001b[39m!=\u001b[39m \u001b[39m0\u001b[39m:\n\u001b[1;32m    <a href='vscode-notebook-cell:/Users/ricklattin/Documents/SMU%20Year%204%20Sem%201/Artificial%20Intelligence/AI_Assignment_5/assignment_connect4.ipynb#X31sZmlsZQ%3D%3D?line=147'>148</a>\u001b[0m     finished \u001b[39m=\u001b[39m \u001b[39mTrue\u001b[39;00m\n",
            "\u001b[1;32m/Users/ricklattin/Documents/SMU Year 4 Sem 1/Artificial Intelligence/AI_Assignment_5/assignment_connect4.ipynb Cell 25\u001b[0m line \u001b[0;36mcheck_connect_4\u001b[0;34m(board_state)\u001b[0m\n\u001b[1;32m     <a href='vscode-notebook-cell:/Users/ricklattin/Documents/SMU%20Year%204%20Sem%201/Artificial%20Intelligence/AI_Assignment_5/assignment_connect4.ipynb#X31sZmlsZQ%3D%3D?line=42'>43</a>\u001b[0m                 \u001b[39mreturn\u001b[39;00m \u001b[39m-\u001b[39m\u001b[39m1\u001b[39m\n\u001b[1;32m     <a href='vscode-notebook-cell:/Users/ricklattin/Documents/SMU%20Year%204%20Sem%201/Artificial%20Intelligence/AI_Assignment_5/assignment_connect4.ipynb#X31sZmlsZQ%3D%3D?line=44'>45</a>\u001b[0m \u001b[39m# check columns for connect 4s\u001b[39;00m\n\u001b[0;32m---> <a href='vscode-notebook-cell:/Users/ricklattin/Documents/SMU%20Year%204%20Sem%201/Artificial%20Intelligence/AI_Assignment_5/assignment_connect4.ipynb#X31sZmlsZQ%3D%3D?line=45'>46</a>\u001b[0m \u001b[39mfor\u001b[39;00m i \u001b[39min\u001b[39;00m \u001b[39mrange\u001b[39m(board_state\u001b[39m.\u001b[39;49mshape[\u001b[39m0\u001b[39m] \u001b[39m-\u001b[39m \u001b[39m3\u001b[39m):\n\u001b[1;32m     <a href='vscode-notebook-cell:/Users/ricklattin/Documents/SMU%20Year%204%20Sem%201/Artificial%20Intelligence/AI_Assignment_5/assignment_connect4.ipynb#X31sZmlsZQ%3D%3D?line=46'>47</a>\u001b[0m     \u001b[39mfor\u001b[39;00m j \u001b[39min\u001b[39;00m \u001b[39mrange\u001b[39m(board_state\u001b[39m.\u001b[39mshape[\u001b[39m1\u001b[39m]):\n\u001b[1;32m     <a href='vscode-notebook-cell:/Users/ricklattin/Documents/SMU%20Year%204%20Sem%201/Artificial%20Intelligence/AI_Assignment_5/assignment_connect4.ipynb#X31sZmlsZQ%3D%3D?line=47'>48</a>\u001b[0m         \u001b[39mif\u001b[39;00m board_state[i][j] \u001b[39m!=\u001b[39m \u001b[39m0\u001b[39m \u001b[39mand\u001b[39;00m board_state[i][j] \u001b[39m==\u001b[39m board_state[i \u001b[39m+\u001b[39m \u001b[39m1\u001b[39m][j] \u001b[39m==\u001b[39m board_state[i \u001b[39m+\u001b[39m \u001b[39m2\u001b[39m][j] \u001b[39m==\u001b[39m board_state[i \u001b[39m+\u001b[39m \u001b[39m3\u001b[39m][j]:\n",
            "\u001b[0;31mKeyboardInterrupt\u001b[0m: "
          ]
        }
      ],
      "source": [
        "# Your code/ answer goes here.\n",
        "import pandas as pd\n",
        "import time\n",
        "\n",
        "# dataframe to store time results\n",
        "df = pd.DataFrame(columns=['board_shape', 'time_taken_ab_minmax'])\n",
        "\n",
        "# run the minmax search for increasing board shapes\n",
        "for x in range(2):\n",
        "    shape = (4,4+x)\n",
        "    print(shape)\n",
        "    board = empty_board(shape)\n",
        "    board = np.array(board)\n",
        "\n",
        "    # time how long the minmax search takes and save the time to a dataframe\n",
        "    start = time.time()\n",
        "    next_move = ab_minmax_player(board, 1)\n",
        "    end = time.time()\n",
        "\n",
        "    df = df.append({'board_shape': shape, 'time_taken_ab_minmax': end - start}, ignore_index=True)\n",
        "\n",
        "print(df)"
      ]
    },
    {
      "cell_type": "markdown",
      "metadata": {
        "id": "toyIEqD0zXxH"
      },
      "source": [
        "### Move ordering [5 points]\n",
        "\n",
        "Starting the search with better moves will increase the efficiency of alpha-beta pruning. Describe and implement a simple move ordering strategy. Make a table that shows how the ordering strategies influence the time it takes to make a move?"
      ]
    },
    {
      "cell_type": "code",
      "execution_count": 413,
      "metadata": {
        "id": "vTDObpxLzXxH"
      },
      "outputs": [
        {
          "data": {
            "text/plain": [
              "[3, 5, 4, 2, 1, 6, 0]"
            ]
          },
          "execution_count": 413,
          "metadata": {},
          "output_type": "execute_result"
        }
      ],
      "source": [
        "# Your code/ answer goes here.\n",
        "\n",
        "def action(board):\n",
        "    possible_actions = []\n",
        "\n",
        "    # check if the top row is empty for every column\n",
        "    for i in range(board.shape[1]):\n",
        "        # if the top row is empty, add the column number to the list of possible actions\n",
        "        if board[0][i] == 0:\n",
        "            possible_actions.append(i)\n",
        "\n",
        "    priority = [0, 1, 1, 2, 1, 1, 0]\n",
        "\n",
        "    # order the actions by priority\n",
        "    priority_actions = []\n",
        "    \n",
        "    actions = [a for _,a in sorted(zip(priority,possible_actions), reverse=True)]\n",
        "    # print(actions)\n",
        "\n",
        "    return actions\n",
        "\n",
        "\n",
        "board = empty_board()\n",
        "action(board)"
      ]
    },
    {
      "cell_type": "markdown",
      "metadata": {
        "id": "jx_ouPmTzXxI"
      },
      "source": [
        "### The first few moves [5 points]\n",
        "\n",
        "Start with an empty board. This is the worst case scenario for minimax search since it needs solve all possible games that can be played (minus some pruning) before making the decision. What can you do?"
      ]
    },
    {
      "cell_type": "code",
      "execution_count": null,
      "metadata": {
        "id": "oJFpkeKUzXxI"
      },
      "outputs": [],
      "source": [
        "# Your code/ answer goes here."
      ]
    },
    {
      "cell_type": "markdown",
      "metadata": {
        "id": "DyWDR6pBzXxJ"
      },
      "source": [
        "### Playtime [5 points]\n",
        "\n",
        "Let the Minimax Search agent play a random agent on a small board. Analyze wins, losses and draws."
      ]
    },
    {
      "cell_type": "code",
      "execution_count": null,
      "metadata": {
        "id": "LMRbnN3vzXxJ"
      },
      "outputs": [],
      "source": [
        "# Your code/ answer goes here.\n",
        "\n",
        "# create a dataframe to store the results of the games\n",
        "df = pd.DataFrame(columns=['board_shape', 'winner'])\n",
        "\n",
        "shape = (4,4)\n",
        "board = empty_board(shape)\n",
        "for x in range(20):\n",
        "    final_board = play(board, ab_minmax_player, random_player)\n",
        "    winner = utility(final_board, 1)\n",
        "    df = df.append({'board_shape': shape, 'winner': winner}, ignore_index=True)"
      ]
    },
    {
      "cell_type": "code",
      "execution_count": null,
      "metadata": {},
      "outputs": [
        {
          "name": "stdout",
          "output_type": "stream",
          "text": [
            "   board_shape winner\n",
            "0       (4, 4)      0\n",
            "1       (4, 4)      1\n",
            "2       (4, 4)      1\n",
            "3       (4, 4)      1\n",
            "4       (4, 4)      1\n",
            "5       (4, 4)      1\n",
            "6       (4, 4)      1\n",
            "7       (4, 4)      1\n",
            "8       (4, 4)      1\n",
            "9       (4, 4)      1\n",
            "10      (4, 4)      1\n",
            "11      (4, 4)      1\n",
            "12      (4, 4)      0\n",
            "13      (4, 4)      1\n",
            "14      (4, 4)      0\n",
            "15      (4, 4)      1\n",
            "16      (4, 4)      1\n",
            "17      (4, 4)      1\n",
            "18      (4, 4)      1\n",
            "19      (4, 4)      0\n"
          ]
        },
        {
          "data": {
            "text/plain": [
              "<AxesSubplot:>"
            ]
          },
          "execution_count": 387,
          "metadata": {},
          "output_type": "execute_result"
        },
        {
          "data": {
            "image/png": "[encoded data removed]",
            "text/plain": [
              "<Figure size 640x480 with 1 Axes>"
            ]
          },
          "metadata": {},
          "output_type": "display_data"
        }
      ],
      "source": [
        "print(df)\n",
        "\n",
        "# create a bar graph to show the results of the games\n",
        "df['winner'].value_counts().plot(kind='bar')\n"
      ]
    },
    {
      "cell_type": "markdown",
      "metadata": {
        "id": "zyiv7D4CzXxK"
      },
      "source": [
        "## Task 4: Heuristic Alpha-Beta Tree Search\n",
        "\n",
        "### Heuristic evaluation function [15 points]\n",
        "\n",
        "Define and implement a heuristic evaluation function."
      ]
    },
    {
      "cell_type": "code",
      "execution_count": 434,
      "metadata": {
        "id": "lpyH_FT6zXxK"
      },
      "outputs": [],
      "source": [
        "# Your code/ answer goes here.\n",
        "\n",
        "# checks the utility of a board state\n",
        "def hueristic(board_state, player):\n",
        "    # check if board is in a terminal state\n",
        "    is_terminal, result = terminal(board_state)\n",
        "    if is_terminal:\n",
        "        return result, is_terminal\n",
        "\n",
        "    # check if there are any connect 3s for the utility function\n",
        "    huer_val = 0\n",
        "    plr_ratio, opp_ratio = check_connect_3(board_state)\n",
        "    if player == 1:\n",
        "       huer_val = plr_ratio - opp_ratio\n",
        "    else:\n",
        "        huer_val = opp_ratio - plr_ratio\n",
        "\n",
        "    # prevents a connect 3 from being worth the same as a connect 4\n",
        "    if(abs(huer_val) == 1):\n",
        "        huer_val = 0.9 * huer_val\n",
        "\n",
        "    return huer_val, is_terminal"
      ]
    },
    {
      "cell_type": "code",
      "execution_count": 429,
      "metadata": {},
      "outputs": [],
      "source": [
        "# def eval_fun(board, player = 1):\n",
        "    \n",
        "#     # terminal state?\n",
        "#     is_terminal, result = terminal(board)\n",
        "#     if is_terminal: \n",
        "#         return result, True\n",
        "      \n",
        "#     score = 0\n",
        "#     board = np.array(board)\n",
        "#     diagonals = np.array([[board[i][i] for i in range(len(board))], \n",
        "#                           [board[i][len(board)-i-1] for i in range(len(board))]])\n",
        "    \n",
        "#     for a_board in [board, np.transpose(board), diagonals]:\n",
        "#         for row in a_board:\n",
        "#             if sum(row == player) == 2 and any(row ==' '): score += .4\n",
        "#             if sum(row == (player*-1)) == 2 and any(row ==' '): score -= .4\n",
        "    \n",
        "#     return score, False"
      ]
    },
    {
      "cell_type": "code",
      "execution_count": 431,
      "metadata": {},
      "outputs": [
        {
          "name": "stdout",
          "output_type": "stream",
          "text": [
            "0\n"
          ]
        },
        {
          "data": {
            "image/png": "[encoded data removed]",
            "text/plain": [
              "<Figure size 640x480 with 1 Axes>"
            ]
          },
          "metadata": {},
          "output_type": "display_data"
        },
        {
          "name": "stdout",
          "output_type": "stream",
          "text": [
            "0.9\n"
          ]
        }
      ],
      "source": [
        "shape = (6,7)\n",
        "board = empty_board(shape)\n",
        "util_val = hueristic(board, 1)\n",
        "print(util_val)\n",
        "\n",
        "board3 = [[0, 0, 0, 0, 0],\n",
        "            [0, 0, 0, -1, 0], \n",
        "            [0, 0, 0, 1, 0],\n",
        "            [-1, 0, 0, 1, 0],\n",
        "            [-1, -1, 0, 1, 0]]\n",
        "board = np.array(board3)\n",
        "visualize(board)\n",
        "util_val = hueristic(board, 1)\n",
        "print(util_val)"
      ]
    },
    {
      "cell_type": "markdown",
      "metadata": {
        "id": "uJEfFGYFzXxL"
      },
      "source": [
        "### Cutting off search [10 points]\n",
        "\n",
        "Modify your Minimax Search with Alpha-Beta Pruning to cut off search at a specified depth and use the heuristic evaluation function. Experiment with different cutoff values."
      ]
    },
    {
      "cell_type": "code",
      "execution_count": 435,
      "metadata": {
        "id": "T1Pq0dpEzXxM"
      },
      "outputs": [],
      "source": [
        "# Your code/ answer goes here.\n",
        "\n",
        "import math\n",
        "\n",
        "def cutoff_minmax_search(board, player = 1, cutoff = None):\n",
        "    global DEBUG, COUNT\n",
        "    COUNT, DEBUG = 0, 0\n",
        "    COUNT += 1\n",
        "    plr = player\n",
        "\n",
        "    # checks each possible column for a move to see if there is terminal state in any \n",
        "    for a in action(board):\n",
        "        is_terminal, result = terminal(results(board, a, plr))\n",
        "        if is_terminal and result == plr:\n",
        "            return a\n",
        "\n",
        "    h_value, next_move = max_val_cut(board, plr, -math.inf, +math.inf, 0, cutoff)\n",
        "    if DEBUG >= 1: print(f\"Nodes searched: {COUNT}\")\n",
        "    return next_move\n",
        "\n",
        "# players best move\n",
        "def max_val_cut(state, player, alpha, beta, depth, cutoff):\n",
        "    #initialize global variables\n",
        "    global DEBUG, COUNT\n",
        "    COUNT += 1\n",
        "\n",
        "    # returns utility and next move as none if it is at a terminal state\n",
        "    v, is_terminal = hueristic(state, player)\n",
        "    if DEBUG >= 2: print(f\"max: {state} [alpha,beta]=[{alpha},{beta}] v={v}\")\n",
        "    if (cutoff is not None and depth >= cutoff) or is_terminal:\n",
        "        if is_terminal:\n",
        "            alpha, beta = v, v\n",
        "        if DEBUG >= 2: print(f\"     found terminal state. backtracking.\")\n",
        "        return v, None\n",
        "    \n",
        "\n",
        "    v, move = -math.inf, None\n",
        "\n",
        "    # check all possible actions in the state, return move with the largest value\n",
        "    for a in action(state):\n",
        "        v2, a2 = min_val_cut(results(state, a, player), player, alpha, beta, depth + 1, cutoff)\n",
        "        if DEBUG >= 2: print(f\"max: {state} (backtracked) [alpha,beta]=[{alpha},{beta}] v={v2}\")\n",
        "        if v2 > v:\n",
        "            v, move = v2, a\n",
        "            alpha = max(alpha, v)\n",
        "        if v >= beta:\n",
        "            if DEBUG >= 2: print(f\"     v>=beta ({v}>={beta}): pruning remaining subtree (actions). backtracking.\")\n",
        "            return v, move\n",
        "\n",
        "    # print(\"max\", v, move)\n",
        "    return v, move\n",
        "\n",
        "\n",
        "def min_val_cut(state, player, alpha, beta, depth, cutoff):\n",
        "    #initialize global variables\n",
        "    global DEBUG, COUNT\n",
        "    COUNT += 1\n",
        "\n",
        "    # returns hueristic utility and next move as none if it is at a terminal state\n",
        "    v, is_terminal = hueristic(state, player)\n",
        "    if DEBUG >= 2: print(f\"min: {state} [alpha,beta]=[{alpha},{beta}] v={v}\")\n",
        "    if (cutoff is not None and depth >= cutoff) or is_terminal:\n",
        "        if is_terminal:\n",
        "            alpha, beta = v, v\n",
        "        if DEBUG >= 2: print(f\"     found terminal state. backtracking.\")\n",
        "        return v, None\n",
        "\n",
        "    v, move = +math.inf, None\n",
        "\n",
        "    # check all possible actions in the state, return move with the smallest value\n",
        "    for a in action(state):\n",
        "        v2, a2 = max_val_cut(results(state, a, (player * -1)), player, alpha, beta, depth + 1, cutoff)\n",
        "        if DEBUG >= 2: print(f\"min: {state} (backtracked) [alpha,beta]=[{alpha},{beta}] v={v2}\")\n",
        "\n",
        "        if v2 < v:\n",
        "            v, move = v2, a\n",
        "            beta = min(beta, v)\n",
        "        if v <= alpha:\n",
        "            if DEBUG >= 2: print(f\"     v<=alpha ({v}>={alpha}): pruning remaining subtree (actions). backtracking.\")\n",
        "            return v, move\n",
        "    \n",
        "    # print(\"min\", v, move)\n",
        "    return v, move\n",
        "\n",
        "\n",
        "def cutoff_minmax_player(board, player = 1):\n",
        "    global DEBUG\n",
        "\n",
        "    move = cutoff_minmax_search(board, player)\n",
        "    # for output board for debugging\n",
        "    if DEBUG >= 0.5: visualize(results(board, move, player))\n",
        "\n",
        "    return results(board, move, player)\n"
      ]
    },
    {
      "cell_type": "markdown",
      "metadata": {
        "id": "zX3CPZt5zXxN"
      },
      "source": [
        "Experiment with the same manually created boards as above to check if the agent spots wining opportunities."
      ]
    },
    {
      "cell_type": "code",
      "execution_count": 442,
      "metadata": {
        "id": "hWVaCCBxzXxN"
      },
      "outputs": [
        {
          "ename": "TypeError",
          "evalue": "play() takes 3 positional arguments but 4 were given",
          "output_type": "error",
          "traceback": [
            "\u001b[0;31m---------------------------------------------------------------------------\u001b[0m",
            "\u001b[0;31mTypeError\u001b[0m                                 Traceback (most recent call last)",
            "\u001b[1;32m/Users/ricklattin/Documents/SMU Year 4 Sem 1/Artificial Intelligence/AI_Assignment_5/assignment_connect4.ipynb Cell 40\u001b[0m line \u001b[0;36m<cell line: 38>\u001b[0;34m()\u001b[0m\n\u001b[1;32m     <a href='vscode-notebook-cell:/Users/ricklattin/Documents/SMU%20Year%204%20Sem%201/Artificial%20Intelligence/AI_Assignment_5/assignment_connect4.ipynb#X46sZmlsZQ%3D%3D?line=35'>36</a>\u001b[0m \u001b[39m# change name of board that is assigned to board variable to test different boards\u001b[39;00m\n\u001b[1;32m     <a href='vscode-notebook-cell:/Users/ricklattin/Documents/SMU%20Year%204%20Sem%201/Artificial%20Intelligence/AI_Assignment_5/assignment_connect4.ipynb#X46sZmlsZQ%3D%3D?line=36'>37</a>\u001b[0m board \u001b[39m=\u001b[39m np\u001b[39m.\u001b[39marray(board1)\n\u001b[0;32m---> <a href='vscode-notebook-cell:/Users/ricklattin/Documents/SMU%20Year%204%20Sem%201/Artificial%20Intelligence/AI_Assignment_5/assignment_connect4.ipynb#X46sZmlsZQ%3D%3D?line=37'>38</a>\u001b[0m board \u001b[39m=\u001b[39m play(board, cutoff_minmax_player, cutoff_minmax_player, \u001b[39m100\u001b[39;49m)\n\u001b[1;32m     <a href='vscode-notebook-cell:/Users/ricklattin/Documents/SMU%20Year%204%20Sem%201/Artificial%20Intelligence/AI_Assignment_5/assignment_connect4.ipynb#X46sZmlsZQ%3D%3D?line=38'>39</a>\u001b[0m visualize(board)\n\u001b[1;32m     <a href='vscode-notebook-cell:/Users/ricklattin/Documents/SMU%20Year%204%20Sem%201/Artificial%20Intelligence/AI_Assignment_5/assignment_connect4.ipynb#X46sZmlsZQ%3D%3D?line=40'>41</a>\u001b[0m board \u001b[39m=\u001b[39m np\u001b[39m.\u001b[39marray(board2)\n",
            "\u001b[0;31mTypeError\u001b[0m: play() takes 3 positional arguments but 4 were given"
          ]
        }
      ],
      "source": [
        "# Your code/ answer goes here.\n",
        "\n",
        "# five testing boards\n",
        "board1 = [[0, 0, 0, 0, 0],\n",
        "          [0, 0, 0, 0, 0], \n",
        "          [0, 0, 0, 0, 0],\n",
        "          [-1, -1, 0, 0, 0],\n",
        "          [1, 1, 0, 1, -1]]\n",
        "\n",
        "board2 = [[0, 0, 0, 0, 0],\n",
        "            [0, 0, 0, 0, 0], \n",
        "            [0, 0, 1, -1, 0],\n",
        "            [0, 1, -1, -1, 0],\n",
        "            [1, -1, -1, 1, 1]]\n",
        "\n",
        "board3 = [[0, 0, 0, 0, 0],\n",
        "            [0, 0, 0, 0, 0], \n",
        "            [0, 0, 0, 1, 0],\n",
        "            [0, 0, 0, 1, 0],\n",
        "            [-1, -1, 1, -1, 0]]\n",
        "\n",
        "board4 = [[0, 0, 0, 0, 0],\n",
        "            [0, 0, 0, 0, 0], \n",
        "            [0, 0, 0, 0, 0],\n",
        "            [1, 1, 1, 0, 0],\n",
        "            [-1, -1, -1, 0, 0]]\n",
        "\n",
        "\n",
        "board5 = [[0, 0, 0, 0, 0],\n",
        "            [0, 0, 0, 0, 0], \n",
        "            [-1, 0, 0, 0, 0],\n",
        "            [-1, 1, 1, 0, 1],\n",
        "            [-1, -1, -1, 0, 1]]\n",
        "\n",
        "\n",
        "# change name of board that is assigned to board variable to test different boards\n",
        "board = np.array(board1)\n",
        "board = play(board, cutoff_minmax_player, cutoff_minmax_player)\n",
        "visualize(board)\n",
        "\n",
        "board = np.array(board2)\n",
        "board = play(board, cutoff_minmax_player, cutoff_minmax_player)\n",
        "visualize(board)\n",
        "\n",
        "board = np.array(board3)\n",
        "board = play(board, cutoff_minmax_player, cutoff_minmax_player)\n",
        "visualize(board)\n",
        "\n",
        "board = np.array(board4)\n",
        "board = play(board, cutoff_minmax_player, cutoff_minmax_player)\n",
        "visualize(board)\n",
        "\n",
        "board = np.array(board5)\n",
        "board = play(board, cutoff_minmax_player, cutoff_minmax_player)\n",
        "visualize(board)"
      ]
    },
    {
      "cell_type": "markdown",
      "metadata": {
        "id": "LCaUSF3RzXxO"
      },
      "source": [
        "How long does it take to make a move? Start with a smaller board with 4 columns and make the board larger by adding columns."
      ]
    },
    {
      "cell_type": "code",
      "execution_count": 441,
      "metadata": {
        "id": "DsJOcCf-zXxP"
      },
      "outputs": [
        {
          "name": "stdout",
          "output_type": "stream",
          "text": [
            "(4, 4)\n",
            "(4, 5)\n"
          ]
        },
        {
          "ename": "KeyboardInterrupt",
          "evalue": "",
          "output_type": "error",
          "traceback": [
            "\u001b[0;31m---------------------------------------------------------------------------\u001b[0m",
            "\u001b[0;31mKeyboardInterrupt\u001b[0m                         Traceback (most recent call last)",
            "\u001b[1;32m/Users/ricklattin/Documents/SMU Year 4 Sem 1/Artificial Intelligence/AI_Assignment_5/assignment_connect4.ipynb Cell 42\u001b[0m line \u001b[0;36m<cell line: 7>\u001b[0;34m()\u001b[0m\n\u001b[1;32m     <a href='vscode-notebook-cell:/Users/ricklattin/Documents/SMU%20Year%204%20Sem%201/Artificial%20Intelligence/AI_Assignment_5/assignment_connect4.ipynb#X51sZmlsZQ%3D%3D?line=12'>13</a>\u001b[0m \u001b[39m# time how long the minmax search takes and save the time to a dataframe\u001b[39;00m\n\u001b[1;32m     <a href='vscode-notebook-cell:/Users/ricklattin/Documents/SMU%20Year%204%20Sem%201/Artificial%20Intelligence/AI_Assignment_5/assignment_connect4.ipynb#X51sZmlsZQ%3D%3D?line=13'>14</a>\u001b[0m start \u001b[39m=\u001b[39m time\u001b[39m.\u001b[39mtime()\n\u001b[0;32m---> <a href='vscode-notebook-cell:/Users/ricklattin/Documents/SMU%20Year%204%20Sem%201/Artificial%20Intelligence/AI_Assignment_5/assignment_connect4.ipynb#X51sZmlsZQ%3D%3D?line=14'>15</a>\u001b[0m next_move \u001b[39m=\u001b[39m cutoff_minmax_player(board, \u001b[39m1\u001b[39;49m)\n\u001b[1;32m     <a href='vscode-notebook-cell:/Users/ricklattin/Documents/SMU%20Year%204%20Sem%201/Artificial%20Intelligence/AI_Assignment_5/assignment_connect4.ipynb#X51sZmlsZQ%3D%3D?line=15'>16</a>\u001b[0m end \u001b[39m=\u001b[39m time\u001b[39m.\u001b[39mtime()\n\u001b[1;32m     <a href='vscode-notebook-cell:/Users/ricklattin/Documents/SMU%20Year%204%20Sem%201/Artificial%20Intelligence/AI_Assignment_5/assignment_connect4.ipynb#X51sZmlsZQ%3D%3D?line=17'>18</a>\u001b[0m df \u001b[39m=\u001b[39m df\u001b[39m.\u001b[39mappend({\u001b[39m'\u001b[39m\u001b[39mboard_shape\u001b[39m\u001b[39m'\u001b[39m: shape, \u001b[39m'\u001b[39m\u001b[39mtime_taken_ab_minmax\u001b[39m\u001b[39m'\u001b[39m: end \u001b[39m-\u001b[39m start}, ignore_index\u001b[39m=\u001b[39m\u001b[39mTrue\u001b[39;00m)\n",
            "\u001b[1;32m/Users/ricklattin/Documents/SMU Year 4 Sem 1/Artificial Intelligence/AI_Assignment_5/assignment_connect4.ipynb Cell 42\u001b[0m line \u001b[0;36mcutoff_minmax_player\u001b[0;34m(board, player)\u001b[0m\n\u001b[1;32m     <a href='vscode-notebook-cell:/Users/ricklattin/Documents/SMU%20Year%204%20Sem%201/Artificial%20Intelligence/AI_Assignment_5/assignment_connect4.ipynb#X51sZmlsZQ%3D%3D?line=85'>86</a>\u001b[0m \u001b[39mdef\u001b[39;00m \u001b[39mcutoff_minmax_player\u001b[39m(board, player \u001b[39m=\u001b[39m \u001b[39m1\u001b[39m):\n\u001b[1;32m     <a href='vscode-notebook-cell:/Users/ricklattin/Documents/SMU%20Year%204%20Sem%201/Artificial%20Intelligence/AI_Assignment_5/assignment_connect4.ipynb#X51sZmlsZQ%3D%3D?line=86'>87</a>\u001b[0m     \u001b[39mglobal\u001b[39;00m DEBUG\n\u001b[0;32m---> <a href='vscode-notebook-cell:/Users/ricklattin/Documents/SMU%20Year%204%20Sem%201/Artificial%20Intelligence/AI_Assignment_5/assignment_connect4.ipynb#X51sZmlsZQ%3D%3D?line=88'>89</a>\u001b[0m     move \u001b[39m=\u001b[39m cutoff_minmax_search(board, player)\n\u001b[1;32m     <a href='vscode-notebook-cell:/Users/ricklattin/Documents/SMU%20Year%204%20Sem%201/Artificial%20Intelligence/AI_Assignment_5/assignment_connect4.ipynb#X51sZmlsZQ%3D%3D?line=89'>90</a>\u001b[0m     \u001b[39m# for output board for debugging\u001b[39;00m\n\u001b[1;32m     <a href='vscode-notebook-cell:/Users/ricklattin/Documents/SMU%20Year%204%20Sem%201/Artificial%20Intelligence/AI_Assignment_5/assignment_connect4.ipynb#X51sZmlsZQ%3D%3D?line=90'>91</a>\u001b[0m     \u001b[39mif\u001b[39;00m DEBUG \u001b[39m>\u001b[39m\u001b[39m=\u001b[39m \u001b[39m0.5\u001b[39m: visualize(results(board, move, player))\n",
            "\u001b[1;32m/Users/ricklattin/Documents/SMU Year 4 Sem 1/Artificial Intelligence/AI_Assignment_5/assignment_connect4.ipynb Cell 42\u001b[0m line \u001b[0;36mcutoff_minmax_search\u001b[0;34m(board, player, cutoff)\u001b[0m\n\u001b[1;32m     <a href='vscode-notebook-cell:/Users/ricklattin/Documents/SMU%20Year%204%20Sem%201/Artificial%20Intelligence/AI_Assignment_5/assignment_connect4.ipynb#X51sZmlsZQ%3D%3D?line=13'>14</a>\u001b[0m     \u001b[39mif\u001b[39;00m is_terminal \u001b[39mand\u001b[39;00m result \u001b[39m==\u001b[39m plr:\n\u001b[1;32m     <a href='vscode-notebook-cell:/Users/ricklattin/Documents/SMU%20Year%204%20Sem%201/Artificial%20Intelligence/AI_Assignment_5/assignment_connect4.ipynb#X51sZmlsZQ%3D%3D?line=14'>15</a>\u001b[0m         \u001b[39mreturn\u001b[39;00m a\n\u001b[0;32m---> <a href='vscode-notebook-cell:/Users/ricklattin/Documents/SMU%20Year%204%20Sem%201/Artificial%20Intelligence/AI_Assignment_5/assignment_connect4.ipynb#X51sZmlsZQ%3D%3D?line=16'>17</a>\u001b[0m h_value, next_move \u001b[39m=\u001b[39m max_val_cut(board, plr, \u001b[39m-\u001b[39;49mmath\u001b[39m.\u001b[39;49minf, \u001b[39m+\u001b[39;49mmath\u001b[39m.\u001b[39;49minf, \u001b[39m0\u001b[39;49m, cutoff)\n\u001b[1;32m     <a href='vscode-notebook-cell:/Users/ricklattin/Documents/SMU%20Year%204%20Sem%201/Artificial%20Intelligence/AI_Assignment_5/assignment_connect4.ipynb#X51sZmlsZQ%3D%3D?line=17'>18</a>\u001b[0m \u001b[39mif\u001b[39;00m DEBUG \u001b[39m>\u001b[39m\u001b[39m=\u001b[39m \u001b[39m1\u001b[39m: \u001b[39mprint\u001b[39m(\u001b[39mf\u001b[39m\u001b[39m\"\u001b[39m\u001b[39mNodes searched: \u001b[39m\u001b[39m{\u001b[39;00mCOUNT\u001b[39m}\u001b[39;00m\u001b[39m\"\u001b[39m)\n\u001b[1;32m     <a href='vscode-notebook-cell:/Users/ricklattin/Documents/SMU%20Year%204%20Sem%201/Artificial%20Intelligence/AI_Assignment_5/assignment_connect4.ipynb#X51sZmlsZQ%3D%3D?line=18'>19</a>\u001b[0m \u001b[39mreturn\u001b[39;00m next_move\n",
            "\u001b[1;32m/Users/ricklattin/Documents/SMU Year 4 Sem 1/Artificial Intelligence/AI_Assignment_5/assignment_connect4.ipynb Cell 42\u001b[0m line \u001b[0;36mmax_val_cut\u001b[0;34m(state, player, alpha, beta, depth, cutoff)\u001b[0m\n\u001b[1;32m     <a href='vscode-notebook-cell:/Users/ricklattin/Documents/SMU%20Year%204%20Sem%201/Artificial%20Intelligence/AI_Assignment_5/assignment_connect4.ipynb#X51sZmlsZQ%3D%3D?line=38'>39</a>\u001b[0m \u001b[39m# check all possible actions in the state, return move with the largest value\u001b[39;00m\n\u001b[1;32m     <a href='vscode-notebook-cell:/Users/ricklattin/Documents/SMU%20Year%204%20Sem%201/Artificial%20Intelligence/AI_Assignment_5/assignment_connect4.ipynb#X51sZmlsZQ%3D%3D?line=39'>40</a>\u001b[0m \u001b[39mfor\u001b[39;00m a \u001b[39min\u001b[39;00m action(state):\n\u001b[0;32m---> <a href='vscode-notebook-cell:/Users/ricklattin/Documents/SMU%20Year%204%20Sem%201/Artificial%20Intelligence/AI_Assignment_5/assignment_connect4.ipynb#X51sZmlsZQ%3D%3D?line=40'>41</a>\u001b[0m     v2, a2 \u001b[39m=\u001b[39m min_val_cut(results(state, a, player), player, alpha, beta, depth \u001b[39m+\u001b[39;49m \u001b[39m1\u001b[39;49m, cutoff)\n\u001b[1;32m     <a href='vscode-notebook-cell:/Users/ricklattin/Documents/SMU%20Year%204%20Sem%201/Artificial%20Intelligence/AI_Assignment_5/assignment_connect4.ipynb#X51sZmlsZQ%3D%3D?line=41'>42</a>\u001b[0m     \u001b[39mif\u001b[39;00m DEBUG \u001b[39m>\u001b[39m\u001b[39m=\u001b[39m \u001b[39m2\u001b[39m: \u001b[39mprint\u001b[39m(\u001b[39mf\u001b[39m\u001b[39m\"\u001b[39m\u001b[39mmax: \u001b[39m\u001b[39m{\u001b[39;00mstate\u001b[39m}\u001b[39;00m\u001b[39m (backtracked) [alpha,beta]=[\u001b[39m\u001b[39m{\u001b[39;00malpha\u001b[39m}\u001b[39;00m\u001b[39m,\u001b[39m\u001b[39m{\u001b[39;00mbeta\u001b[39m}\u001b[39;00m\u001b[39m] v=\u001b[39m\u001b[39m{\u001b[39;00mv2\u001b[39m}\u001b[39;00m\u001b[39m\"\u001b[39m)\n\u001b[1;32m     <a href='vscode-notebook-cell:/Users/ricklattin/Documents/SMU%20Year%204%20Sem%201/Artificial%20Intelligence/AI_Assignment_5/assignment_connect4.ipynb#X51sZmlsZQ%3D%3D?line=42'>43</a>\u001b[0m     \u001b[39mif\u001b[39;00m v2 \u001b[39m>\u001b[39m v:\n",
            "\u001b[1;32m/Users/ricklattin/Documents/SMU Year 4 Sem 1/Artificial Intelligence/AI_Assignment_5/assignment_connect4.ipynb Cell 42\u001b[0m line \u001b[0;36mmin_val_cut\u001b[0;34m(state, player, alpha, beta, depth, cutoff)\u001b[0m\n\u001b[1;32m     <a href='vscode-notebook-cell:/Users/ricklattin/Documents/SMU%20Year%204%20Sem%201/Artificial%20Intelligence/AI_Assignment_5/assignment_connect4.ipynb#X51sZmlsZQ%3D%3D?line=69'>70</a>\u001b[0m \u001b[39m# check all possible actions in the state, return move with the smallest value\u001b[39;00m\n\u001b[1;32m     <a href='vscode-notebook-cell:/Users/ricklattin/Documents/SMU%20Year%204%20Sem%201/Artificial%20Intelligence/AI_Assignment_5/assignment_connect4.ipynb#X51sZmlsZQ%3D%3D?line=70'>71</a>\u001b[0m \u001b[39mfor\u001b[39;00m a \u001b[39min\u001b[39;00m action(state):\n\u001b[0;32m---> <a href='vscode-notebook-cell:/Users/ricklattin/Documents/SMU%20Year%204%20Sem%201/Artificial%20Intelligence/AI_Assignment_5/assignment_connect4.ipynb#X51sZmlsZQ%3D%3D?line=71'>72</a>\u001b[0m     v2, a2 \u001b[39m=\u001b[39m max_val_cut(results(state, a, (player \u001b[39m*\u001b[39;49m \u001b[39m-\u001b[39;49m\u001b[39m1\u001b[39;49m)), player, alpha, beta, depth \u001b[39m+\u001b[39;49m \u001b[39m1\u001b[39;49m, cutoff)\n\u001b[1;32m     <a href='vscode-notebook-cell:/Users/ricklattin/Documents/SMU%20Year%204%20Sem%201/Artificial%20Intelligence/AI_Assignment_5/assignment_connect4.ipynb#X51sZmlsZQ%3D%3D?line=72'>73</a>\u001b[0m     \u001b[39mif\u001b[39;00m DEBUG \u001b[39m>\u001b[39m\u001b[39m=\u001b[39m \u001b[39m2\u001b[39m: \u001b[39mprint\u001b[39m(\u001b[39mf\u001b[39m\u001b[39m\"\u001b[39m\u001b[39mmin: \u001b[39m\u001b[39m{\u001b[39;00mstate\u001b[39m}\u001b[39;00m\u001b[39m (backtracked) [alpha,beta]=[\u001b[39m\u001b[39m{\u001b[39;00malpha\u001b[39m}\u001b[39;00m\u001b[39m,\u001b[39m\u001b[39m{\u001b[39;00mbeta\u001b[39m}\u001b[39;00m\u001b[39m] v=\u001b[39m\u001b[39m{\u001b[39;00mv2\u001b[39m}\u001b[39;00m\u001b[39m\"\u001b[39m)\n\u001b[1;32m     <a href='vscode-notebook-cell:/Users/ricklattin/Documents/SMU%20Year%204%20Sem%201/Artificial%20Intelligence/AI_Assignment_5/assignment_connect4.ipynb#X51sZmlsZQ%3D%3D?line=74'>75</a>\u001b[0m     \u001b[39mif\u001b[39;00m v2 \u001b[39m<\u001b[39m v:\n",
            "\u001b[1;32m/Users/ricklattin/Documents/SMU Year 4 Sem 1/Artificial Intelligence/AI_Assignment_5/assignment_connect4.ipynb Cell 42\u001b[0m line \u001b[0;36mmax_val_cut\u001b[0;34m(state, player, alpha, beta, depth, cutoff)\u001b[0m\n\u001b[1;32m     <a href='vscode-notebook-cell:/Users/ricklattin/Documents/SMU%20Year%204%20Sem%201/Artificial%20Intelligence/AI_Assignment_5/assignment_connect4.ipynb#X51sZmlsZQ%3D%3D?line=38'>39</a>\u001b[0m \u001b[39m# check all possible actions in the state, return move with the largest value\u001b[39;00m\n\u001b[1;32m     <a href='vscode-notebook-cell:/Users/ricklattin/Documents/SMU%20Year%204%20Sem%201/Artificial%20Intelligence/AI_Assignment_5/assignment_connect4.ipynb#X51sZmlsZQ%3D%3D?line=39'>40</a>\u001b[0m \u001b[39mfor\u001b[39;00m a \u001b[39min\u001b[39;00m action(state):\n\u001b[0;32m---> <a href='vscode-notebook-cell:/Users/ricklattin/Documents/SMU%20Year%204%20Sem%201/Artificial%20Intelligence/AI_Assignment_5/assignment_connect4.ipynb#X51sZmlsZQ%3D%3D?line=40'>41</a>\u001b[0m     v2, a2 \u001b[39m=\u001b[39m min_val_cut(results(state, a, player), player, alpha, beta, depth \u001b[39m+\u001b[39;49m \u001b[39m1\u001b[39;49m, cutoff)\n\u001b[1;32m     <a href='vscode-notebook-cell:/Users/ricklattin/Documents/SMU%20Year%204%20Sem%201/Artificial%20Intelligence/AI_Assignment_5/assignment_connect4.ipynb#X51sZmlsZQ%3D%3D?line=41'>42</a>\u001b[0m     \u001b[39mif\u001b[39;00m DEBUG \u001b[39m>\u001b[39m\u001b[39m=\u001b[39m \u001b[39m2\u001b[39m: \u001b[39mprint\u001b[39m(\u001b[39mf\u001b[39m\u001b[39m\"\u001b[39m\u001b[39mmax: \u001b[39m\u001b[39m{\u001b[39;00mstate\u001b[39m}\u001b[39;00m\u001b[39m (backtracked) [alpha,beta]=[\u001b[39m\u001b[39m{\u001b[39;00malpha\u001b[39m}\u001b[39;00m\u001b[39m,\u001b[39m\u001b[39m{\u001b[39;00mbeta\u001b[39m}\u001b[39;00m\u001b[39m] v=\u001b[39m\u001b[39m{\u001b[39;00mv2\u001b[39m}\u001b[39;00m\u001b[39m\"\u001b[39m)\n\u001b[1;32m     <a href='vscode-notebook-cell:/Users/ricklattin/Documents/SMU%20Year%204%20Sem%201/Artificial%20Intelligence/AI_Assignment_5/assignment_connect4.ipynb#X51sZmlsZQ%3D%3D?line=42'>43</a>\u001b[0m     \u001b[39mif\u001b[39;00m v2 \u001b[39m>\u001b[39m v:\n",
            "\u001b[1;32m/Users/ricklattin/Documents/SMU Year 4 Sem 1/Artificial Intelligence/AI_Assignment_5/assignment_connect4.ipynb Cell 42\u001b[0m line \u001b[0;36mmin_val_cut\u001b[0;34m(state, player, alpha, beta, depth, cutoff)\u001b[0m\n\u001b[1;32m     <a href='vscode-notebook-cell:/Users/ricklattin/Documents/SMU%20Year%204%20Sem%201/Artificial%20Intelligence/AI_Assignment_5/assignment_connect4.ipynb#X51sZmlsZQ%3D%3D?line=69'>70</a>\u001b[0m \u001b[39m# check all possible actions in the state, return move with the smallest value\u001b[39;00m\n\u001b[1;32m     <a href='vscode-notebook-cell:/Users/ricklattin/Documents/SMU%20Year%204%20Sem%201/Artificial%20Intelligence/AI_Assignment_5/assignment_connect4.ipynb#X51sZmlsZQ%3D%3D?line=70'>71</a>\u001b[0m \u001b[39mfor\u001b[39;00m a \u001b[39min\u001b[39;00m action(state):\n\u001b[0;32m---> <a href='vscode-notebook-cell:/Users/ricklattin/Documents/SMU%20Year%204%20Sem%201/Artificial%20Intelligence/AI_Assignment_5/assignment_connect4.ipynb#X51sZmlsZQ%3D%3D?line=71'>72</a>\u001b[0m     v2, a2 \u001b[39m=\u001b[39m max_val_cut(results(state, a, (player \u001b[39m*\u001b[39;49m \u001b[39m-\u001b[39;49m\u001b[39m1\u001b[39;49m)), player, alpha, beta, depth \u001b[39m+\u001b[39;49m \u001b[39m1\u001b[39;49m, cutoff)\n\u001b[1;32m     <a href='vscode-notebook-cell:/Users/ricklattin/Documents/SMU%20Year%204%20Sem%201/Artificial%20Intelligence/AI_Assignment_5/assignment_connect4.ipynb#X51sZmlsZQ%3D%3D?line=72'>73</a>\u001b[0m     \u001b[39mif\u001b[39;00m DEBUG \u001b[39m>\u001b[39m\u001b[39m=\u001b[39m \u001b[39m2\u001b[39m: \u001b[39mprint\u001b[39m(\u001b[39mf\u001b[39m\u001b[39m\"\u001b[39m\u001b[39mmin: \u001b[39m\u001b[39m{\u001b[39;00mstate\u001b[39m}\u001b[39;00m\u001b[39m (backtracked) [alpha,beta]=[\u001b[39m\u001b[39m{\u001b[39;00malpha\u001b[39m}\u001b[39;00m\u001b[39m,\u001b[39m\u001b[39m{\u001b[39;00mbeta\u001b[39m}\u001b[39;00m\u001b[39m] v=\u001b[39m\u001b[39m{\u001b[39;00mv2\u001b[39m}\u001b[39;00m\u001b[39m\"\u001b[39m)\n\u001b[1;32m     <a href='vscode-notebook-cell:/Users/ricklattin/Documents/SMU%20Year%204%20Sem%201/Artificial%20Intelligence/AI_Assignment_5/assignment_connect4.ipynb#X51sZmlsZQ%3D%3D?line=74'>75</a>\u001b[0m     \u001b[39mif\u001b[39;00m v2 \u001b[39m<\u001b[39m v:\n",
            "    \u001b[0;31m[... skipping similar frames: max_val_cut at line 41 (7 times), min_val_cut at line 72 (6 times)]\u001b[0m\n",
            "\u001b[1;32m/Users/ricklattin/Documents/SMU Year 4 Sem 1/Artificial Intelligence/AI_Assignment_5/assignment_connect4.ipynb Cell 42\u001b[0m line \u001b[0;36mmin_val_cut\u001b[0;34m(state, player, alpha, beta, depth, cutoff)\u001b[0m\n\u001b[1;32m     <a href='vscode-notebook-cell:/Users/ricklattin/Documents/SMU%20Year%204%20Sem%201/Artificial%20Intelligence/AI_Assignment_5/assignment_connect4.ipynb#X51sZmlsZQ%3D%3D?line=69'>70</a>\u001b[0m \u001b[39m# check all possible actions in the state, return move with the smallest value\u001b[39;00m\n\u001b[1;32m     <a href='vscode-notebook-cell:/Users/ricklattin/Documents/SMU%20Year%204%20Sem%201/Artificial%20Intelligence/AI_Assignment_5/assignment_connect4.ipynb#X51sZmlsZQ%3D%3D?line=70'>71</a>\u001b[0m \u001b[39mfor\u001b[39;00m a \u001b[39min\u001b[39;00m action(state):\n\u001b[0;32m---> <a href='vscode-notebook-cell:/Users/ricklattin/Documents/SMU%20Year%204%20Sem%201/Artificial%20Intelligence/AI_Assignment_5/assignment_connect4.ipynb#X51sZmlsZQ%3D%3D?line=71'>72</a>\u001b[0m     v2, a2 \u001b[39m=\u001b[39m max_val_cut(results(state, a, (player \u001b[39m*\u001b[39;49m \u001b[39m-\u001b[39;49m\u001b[39m1\u001b[39;49m)), player, alpha, beta, depth \u001b[39m+\u001b[39;49m \u001b[39m1\u001b[39;49m, cutoff)\n\u001b[1;32m     <a href='vscode-notebook-cell:/Users/ricklattin/Documents/SMU%20Year%204%20Sem%201/Artificial%20Intelligence/AI_Assignment_5/assignment_connect4.ipynb#X51sZmlsZQ%3D%3D?line=72'>73</a>\u001b[0m     \u001b[39mif\u001b[39;00m DEBUG \u001b[39m>\u001b[39m\u001b[39m=\u001b[39m \u001b[39m2\u001b[39m: \u001b[39mprint\u001b[39m(\u001b[39mf\u001b[39m\u001b[39m\"\u001b[39m\u001b[39mmin: \u001b[39m\u001b[39m{\u001b[39;00mstate\u001b[39m}\u001b[39;00m\u001b[39m (backtracked) [alpha,beta]=[\u001b[39m\u001b[39m{\u001b[39;00malpha\u001b[39m}\u001b[39;00m\u001b[39m,\u001b[39m\u001b[39m{\u001b[39;00mbeta\u001b[39m}\u001b[39;00m\u001b[39m] v=\u001b[39m\u001b[39m{\u001b[39;00mv2\u001b[39m}\u001b[39;00m\u001b[39m\"\u001b[39m)\n\u001b[1;32m     <a href='vscode-notebook-cell:/Users/ricklattin/Documents/SMU%20Year%204%20Sem%201/Artificial%20Intelligence/AI_Assignment_5/assignment_connect4.ipynb#X51sZmlsZQ%3D%3D?line=74'>75</a>\u001b[0m     \u001b[39mif\u001b[39;00m v2 \u001b[39m<\u001b[39m v:\n",
            "\u001b[1;32m/Users/ricklattin/Documents/SMU Year 4 Sem 1/Artificial Intelligence/AI_Assignment_5/assignment_connect4.ipynb Cell 42\u001b[0m line \u001b[0;36mmax_val_cut\u001b[0;34m(state, player, alpha, beta, depth, cutoff)\u001b[0m\n\u001b[1;32m     <a href='vscode-notebook-cell:/Users/ricklattin/Documents/SMU%20Year%204%20Sem%201/Artificial%20Intelligence/AI_Assignment_5/assignment_connect4.ipynb#X51sZmlsZQ%3D%3D?line=38'>39</a>\u001b[0m \u001b[39m# check all possible actions in the state, return move with the largest value\u001b[39;00m\n\u001b[1;32m     <a href='vscode-notebook-cell:/Users/ricklattin/Documents/SMU%20Year%204%20Sem%201/Artificial%20Intelligence/AI_Assignment_5/assignment_connect4.ipynb#X51sZmlsZQ%3D%3D?line=39'>40</a>\u001b[0m \u001b[39mfor\u001b[39;00m a \u001b[39min\u001b[39;00m action(state):\n\u001b[0;32m---> <a href='vscode-notebook-cell:/Users/ricklattin/Documents/SMU%20Year%204%20Sem%201/Artificial%20Intelligence/AI_Assignment_5/assignment_connect4.ipynb#X51sZmlsZQ%3D%3D?line=40'>41</a>\u001b[0m     v2, a2 \u001b[39m=\u001b[39m min_val_cut(results(state, a, player), player, alpha, beta, depth \u001b[39m+\u001b[39;49m \u001b[39m1\u001b[39;49m, cutoff)\n\u001b[1;32m     <a href='vscode-notebook-cell:/Users/ricklattin/Documents/SMU%20Year%204%20Sem%201/Artificial%20Intelligence/AI_Assignment_5/assignment_connect4.ipynb#X51sZmlsZQ%3D%3D?line=41'>42</a>\u001b[0m     \u001b[39mif\u001b[39;00m DEBUG \u001b[39m>\u001b[39m\u001b[39m=\u001b[39m \u001b[39m2\u001b[39m: \u001b[39mprint\u001b[39m(\u001b[39mf\u001b[39m\u001b[39m\"\u001b[39m\u001b[39mmax: \u001b[39m\u001b[39m{\u001b[39;00mstate\u001b[39m}\u001b[39;00m\u001b[39m (backtracked) [alpha,beta]=[\u001b[39m\u001b[39m{\u001b[39;00malpha\u001b[39m}\u001b[39;00m\u001b[39m,\u001b[39m\u001b[39m{\u001b[39;00mbeta\u001b[39m}\u001b[39;00m\u001b[39m] v=\u001b[39m\u001b[39m{\u001b[39;00mv2\u001b[39m}\u001b[39;00m\u001b[39m\"\u001b[39m)\n\u001b[1;32m     <a href='vscode-notebook-cell:/Users/ricklattin/Documents/SMU%20Year%204%20Sem%201/Artificial%20Intelligence/AI_Assignment_5/assignment_connect4.ipynb#X51sZmlsZQ%3D%3D?line=42'>43</a>\u001b[0m     \u001b[39mif\u001b[39;00m v2 \u001b[39m>\u001b[39m v:\n",
            "\u001b[1;32m/Users/ricklattin/Documents/SMU Year 4 Sem 1/Artificial Intelligence/AI_Assignment_5/assignment_connect4.ipynb Cell 42\u001b[0m line \u001b[0;36mmin_val_cut\u001b[0;34m(state, player, alpha, beta, depth, cutoff)\u001b[0m\n\u001b[1;32m     <a href='vscode-notebook-cell:/Users/ricklattin/Documents/SMU%20Year%204%20Sem%201/Artificial%20Intelligence/AI_Assignment_5/assignment_connect4.ipynb#X51sZmlsZQ%3D%3D?line=56'>57</a>\u001b[0m COUNT \u001b[39m+\u001b[39m\u001b[39m=\u001b[39m \u001b[39m1\u001b[39m\n\u001b[1;32m     <a href='vscode-notebook-cell:/Users/ricklattin/Documents/SMU%20Year%204%20Sem%201/Artificial%20Intelligence/AI_Assignment_5/assignment_connect4.ipynb#X51sZmlsZQ%3D%3D?line=58'>59</a>\u001b[0m \u001b[39m# returns hueristic utility and next move as none if it is at a terminal state\u001b[39;00m\n\u001b[0;32m---> <a href='vscode-notebook-cell:/Users/ricklattin/Documents/SMU%20Year%204%20Sem%201/Artificial%20Intelligence/AI_Assignment_5/assignment_connect4.ipynb#X51sZmlsZQ%3D%3D?line=59'>60</a>\u001b[0m v, is_terminal \u001b[39m=\u001b[39m hueristic(state, player)\n\u001b[1;32m     <a href='vscode-notebook-cell:/Users/ricklattin/Documents/SMU%20Year%204%20Sem%201/Artificial%20Intelligence/AI_Assignment_5/assignment_connect4.ipynb#X51sZmlsZQ%3D%3D?line=60'>61</a>\u001b[0m \u001b[39mif\u001b[39;00m DEBUG \u001b[39m>\u001b[39m\u001b[39m=\u001b[39m \u001b[39m2\u001b[39m: \u001b[39mprint\u001b[39m(\u001b[39mf\u001b[39m\u001b[39m\"\u001b[39m\u001b[39mmin: \u001b[39m\u001b[39m{\u001b[39;00mstate\u001b[39m}\u001b[39;00m\u001b[39m [alpha,beta]=[\u001b[39m\u001b[39m{\u001b[39;00malpha\u001b[39m}\u001b[39;00m\u001b[39m,\u001b[39m\u001b[39m{\u001b[39;00mbeta\u001b[39m}\u001b[39;00m\u001b[39m] v=\u001b[39m\u001b[39m{\u001b[39;00mv\u001b[39m}\u001b[39;00m\u001b[39m\"\u001b[39m)\n\u001b[1;32m     <a href='vscode-notebook-cell:/Users/ricklattin/Documents/SMU%20Year%204%20Sem%201/Artificial%20Intelligence/AI_Assignment_5/assignment_connect4.ipynb#X51sZmlsZQ%3D%3D?line=61'>62</a>\u001b[0m \u001b[39mif\u001b[39;00m (cutoff \u001b[39mis\u001b[39;00m \u001b[39mnot\u001b[39;00m \u001b[39mNone\u001b[39;00m \u001b[39mand\u001b[39;00m depth \u001b[39m>\u001b[39m\u001b[39m=\u001b[39m cutoff) \u001b[39mor\u001b[39;00m is_terminal:\n",
            "\u001b[1;32m/Users/ricklattin/Documents/SMU Year 4 Sem 1/Artificial Intelligence/AI_Assignment_5/assignment_connect4.ipynb Cell 42\u001b[0m line \u001b[0;36mhueristic\u001b[0;34m(board_state, player)\u001b[0m\n\u001b[1;32m      <a href='vscode-notebook-cell:/Users/ricklattin/Documents/SMU%20Year%204%20Sem%201/Artificial%20Intelligence/AI_Assignment_5/assignment_connect4.ipynb#X51sZmlsZQ%3D%3D?line=3'>4</a>\u001b[0m \u001b[39mdef\u001b[39;00m \u001b[39mhueristic\u001b[39m(board_state, player):\n\u001b[1;32m      <a href='vscode-notebook-cell:/Users/ricklattin/Documents/SMU%20Year%204%20Sem%201/Artificial%20Intelligence/AI_Assignment_5/assignment_connect4.ipynb#X51sZmlsZQ%3D%3D?line=4'>5</a>\u001b[0m     \u001b[39m# check if board is in a terminal state\u001b[39;00m\n\u001b[0;32m----> <a href='vscode-notebook-cell:/Users/ricklattin/Documents/SMU%20Year%204%20Sem%201/Artificial%20Intelligence/AI_Assignment_5/assignment_connect4.ipynb#X51sZmlsZQ%3D%3D?line=5'>6</a>\u001b[0m     is_terminal, result \u001b[39m=\u001b[39m terminal(board_state)\n\u001b[1;32m      <a href='vscode-notebook-cell:/Users/ricklattin/Documents/SMU%20Year%204%20Sem%201/Artificial%20Intelligence/AI_Assignment_5/assignment_connect4.ipynb#X51sZmlsZQ%3D%3D?line=6'>7</a>\u001b[0m     \u001b[39mif\u001b[39;00m is_terminal:\n\u001b[1;32m      <a href='vscode-notebook-cell:/Users/ricklattin/Documents/SMU%20Year%204%20Sem%201/Artificial%20Intelligence/AI_Assignment_5/assignment_connect4.ipynb#X51sZmlsZQ%3D%3D?line=7'>8</a>\u001b[0m         \u001b[39mreturn\u001b[39;00m result, is_terminal\n",
            "\u001b[1;32m/Users/ricklattin/Documents/SMU Year 4 Sem 1/Artificial Intelligence/AI_Assignment_5/assignment_connect4.ipynb Cell 42\u001b[0m line \u001b[0;36mterminal\u001b[0;34m(board_state)\u001b[0m\n\u001b[1;32m    <a href='vscode-notebook-cell:/Users/ricklattin/Documents/SMU%20Year%204%20Sem%201/Artificial%20Intelligence/AI_Assignment_5/assignment_connect4.ipynb#X51sZmlsZQ%3D%3D?line=147'>148</a>\u001b[0m     finished \u001b[39m=\u001b[39m \u001b[39mTrue\u001b[39;00m\n\u001b[1;32m    <a href='vscode-notebook-cell:/Users/ricklattin/Documents/SMU%20Year%204%20Sem%201/Artificial%20Intelligence/AI_Assignment_5/assignment_connect4.ipynb#X51sZmlsZQ%3D%3D?line=149'>150</a>\u001b[0m \u001b[39m# check if the board is full\u001b[39;00m\n\u001b[0;32m--> <a href='vscode-notebook-cell:/Users/ricklattin/Documents/SMU%20Year%204%20Sem%201/Artificial%20Intelligence/AI_Assignment_5/assignment_connect4.ipynb#X51sZmlsZQ%3D%3D?line=150'>151</a>\u001b[0m \u001b[39mif\u001b[39;00m np\u001b[39m.\u001b[39;49mcount_nonzero(board_state) \u001b[39m==\u001b[39m board_state\u001b[39m.\u001b[39mshape[\u001b[39m0\u001b[39m] \u001b[39m*\u001b[39m board_state\u001b[39m.\u001b[39mshape[\u001b[39m1\u001b[39m]:\n\u001b[1;32m    <a href='vscode-notebook-cell:/Users/ricklattin/Documents/SMU%20Year%204%20Sem%201/Artificial%20Intelligence/AI_Assignment_5/assignment_connect4.ipynb#X51sZmlsZQ%3D%3D?line=151'>152</a>\u001b[0m     finished \u001b[39m=\u001b[39m \u001b[39mTrue\u001b[39;00m\n\u001b[1;32m    <a href='vscode-notebook-cell:/Users/ricklattin/Documents/SMU%20Year%204%20Sem%201/Artificial%20Intelligence/AI_Assignment_5/assignment_connect4.ipynb#X51sZmlsZQ%3D%3D?line=152'>153</a>\u001b[0m     \u001b[39m# return 0\u001b[39;00m\n",
            "File \u001b[0;32m<__array_function__ internals>:180\u001b[0m, in \u001b[0;36mcount_nonzero\u001b[0;34m(*args, **kwargs)\u001b[0m\n",
            "File \u001b[0;32m~/opt/anaconda3/lib/python3.9/site-packages/numpy/core/numeric.py:425\u001b[0m, in \u001b[0;36mcount_nonzero\u001b[0;34m(a, axis, keepdims)\u001b[0m\n\u001b[1;32m    421\u001b[0m \u001b[39mdef\u001b[39;00m \u001b[39m_count_nonzero_dispatcher\u001b[39m(a, axis\u001b[39m=\u001b[39m\u001b[39mNone\u001b[39;00m, \u001b[39m*\u001b[39m, keepdims\u001b[39m=\u001b[39m\u001b[39mNone\u001b[39;00m):\n\u001b[1;32m    422\u001b[0m     \u001b[39mreturn\u001b[39;00m (a,)\n\u001b[0;32m--> 425\u001b[0m \u001b[39m@array_function_dispatch\u001b[39m(_count_nonzero_dispatcher)\n\u001b[1;32m    426\u001b[0m \u001b[39mdef\u001b[39;00m \u001b[39mcount_nonzero\u001b[39m(a, axis\u001b[39m=\u001b[39m\u001b[39mNone\u001b[39;00m, \u001b[39m*\u001b[39m, keepdims\u001b[39m=\u001b[39m\u001b[39mFalse\u001b[39;00m):\n\u001b[1;32m    427\u001b[0m     \u001b[39m\"\"\"\u001b[39;00m\n\u001b[1;32m    428\u001b[0m \u001b[39m    Counts the number of non-zero values in the array ``a``.\u001b[39;00m\n\u001b[1;32m    429\u001b[0m \n\u001b[0;32m   (...)\u001b[0m\n\u001b[1;32m    483\u001b[0m \u001b[39m           [3]])\u001b[39;00m\n\u001b[1;32m    484\u001b[0m \u001b[39m    \"\"\"\u001b[39;00m\n\u001b[1;32m    485\u001b[0m     \u001b[39mif\u001b[39;00m axis \u001b[39mis\u001b[39;00m \u001b[39mNone\u001b[39;00m \u001b[39mand\u001b[39;00m \u001b[39mnot\u001b[39;00m keepdims:\n",
            "\u001b[0;31mKeyboardInterrupt\u001b[0m: "
          ]
        }
      ],
      "source": [
        "# Your code/ answer goes here.\n",
        "\n",
        "# dataframe to store time results\n",
        "df = pd.DataFrame(columns=['board_shape', 'time_taken_cutoff_minmax'])\n",
        "\n",
        "# run the minmax search for increasing board shapes\n",
        "for x in range(2):\n",
        "    shape = (4,4+x)\n",
        "    print(shape)\n",
        "    board = empty_board(shape)\n",
        "    board = np.array(board)\n",
        "\n",
        "    # time how long the minmax search takes and save the time to a dataframe\n",
        "    start = time.time()\n",
        "    next_move = cutoff_minmax_player(board, 1)\n",
        "    end = time.time()\n",
        "\n",
        "    df = df.append({'board_shape': shape, 'time_taken_ab_minmax': end - start}, ignore_index=True)\n",
        "\n",
        "print(df)"
      ]
    },
    {
      "cell_type": "markdown",
      "metadata": {
        "id": "wLJ2a7bIzXxP"
      },
      "source": [
        "### Playtime [5 points]\n",
        "\n",
        "Let two heuristic search agents (different cutoff depth, different heuristic evaluation function) compete against each other on a reasonably sized board. Since there is no randomness, you only need to let them play once."
      ]
    },
    {
      "cell_type": "code",
      "execution_count": null,
      "metadata": {
        "id": "F8j61AzizXxQ"
      },
      "outputs": [],
      "source": [
        "# Your code/ answer goes here."
      ]
    },
    {
      "cell_type": "markdown",
      "metadata": {
        "id": "ZiwiK4sFzXxR"
      },
      "source": [
        "## Challenge task [+ 10 bonus point will be awarded separately]\n",
        "\n",
        "Find another student and let your best agent play against the other student's best player. We will set up a class tournament on Canvas. This tournament will continue after the submission deadline."
      ]
    },
    {
      "cell_type": "markdown",
      "metadata": {
        "id": "D4OJPJwAzXxS"
      },
      "source": [
        "## Graduate student advanced task: Pure Monte Carlo Search and Best First Move [10 point]\n",
        "\n",
        "__Undergraduate students:__ This is a bonus task you can attempt if you like [+10 bonus point].\n",
        "\n",
        "### Pure Monte Carlo Search\n",
        "\n",
        "Implement Pure Monte Carlo Search and investigate how this search performs on the test boards that you have used above."
      ]
    },
    {
      "cell_type": "code",
      "execution_count": null,
      "metadata": {
        "id": "LSNI8KzwzXxT"
      },
      "outputs": [],
      "source": [
        "# Your code/ answer goes here."
      ]
    },
    {
      "cell_type": "markdown",
      "metadata": {
        "id": "fe3fOfSuzXxU"
      },
      "source": [
        "### Best First Move\n",
        "\n",
        "Use Oure Monte Carlo Search to determine what the best first move is? Describe under what assumptions this is the \"best\" first move.  "
      ]
    },
    {
      "cell_type": "code",
      "execution_count": null,
      "metadata": {
        "id": "LBY7S6lizXxU"
      },
      "outputs": [],
      "source": [
        "# Your code/ answer goes here."
      ]
    }
  ],
  "metadata": {
    "colab": {
      "provenance": []
    },
    "kernelspec": {
      "display_name": "Python 3 (ipykernel)",
      "language": "python",
      "name": "python3"
    },
    "language_info": {
      "codemirror_mode": {
        "name": "ipython",
        "version": 3
      },
      "file_extension": ".py",
      "mimetype": "text/x-python",
      "name": "python",
      "nbconvert_exporter": "python",
      "pygments_lexer": "ipython3",
      "version": "3.9.12"
    }
  },
  "nbformat": 4,
  "nbformat_minor": 0
}
